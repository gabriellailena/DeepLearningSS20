{
  "nbformat": 4,
  "nbformat_minor": 0,
  "metadata": {
    "accelerator": "GPU",
    "colab": {
      "name": "Assignment-II_Gabriella Ilena_3440942.ipynb",
      "provenance": [],
      "collapsed_sections": []
    },
    "kernelspec": {
      "display_name": "Python 3",
      "language": "python",
      "name": "python3"
    },
    "language_info": {
      "codemirror_mode": {
        "name": "ipython",
        "version": 3
      },
      "file_extension": ".py",
      "mimetype": "text/x-python",
      "name": "python",
      "nbconvert_exporter": "python",
      "pygments_lexer": "ipython3",
      "version": "3.8.2"
    }
  },
  "cells": [
    {
      "cell_type": "markdown",
      "metadata": {
        "colab_type": "text",
        "id": "Zafx6Y6AflAu"
      },
      "source": [
        "# Deep learning programming II: Classification\n",
        "Felix Wiewel, Institute of Signal Processing and System Theory, University of Stuttgart, 24.04.2020\n",
        "\n",
        "## Introduction\n",
        "A common problem that arises in machine learning is the classification of images. The goal of this exercise is to introduce you to the practical implementation of a complete pipeline for solving a classification task with neural networks in Tensorflow. For this we will make extended use of Keras, a specification of a high-level API for implementing powerful classes and functions to create and train neural networks. Tensorflow already comes with an implementation of the Keras specification so there is no need to install Keras if you have already installed Tensorflow. Usign Keras instead of low level tensorflow code to implement your neural networks and their training algorithms comes with some advantages but also some disadvantages. Since Keras makes it very easy to build and train neural networks, even people without strong programming skills can quickly develop solutions for given problems using neural networks. Keras essantially provides an abstract interface to the user and takes care of the low-level implementation details. This, however, comes with a cost. Since many technical details are hidden from the user, it is sometimes quite difficult to modify and change certain parts of your model/training algorithm. To a certain extend Keras provides you with ways to implement custom network architectures, custom layers and custom training algorithms but sometimes having to write code that is compliant with the Keras specification is more difficult than implementing it in low-level Tensorflow code. But for most standard applications, e.g. simple image classification like in this exercise, Keras is flexible enough and can save you a lot of time and frustation.\n",
        "\n",
        "## GPU support\n",
        "In order to speed up calculations with Tensorflow, we need to change the runtime type of this notebook to GPU. For this click on \"Runtime\" in the top left menu and select \"Change runtime type\". Then choose \"GPU\" in the drop down list under \"Hardware accelerator\". This will enable tensorflow to execute calculations on a GPU provided by Google Colab.\n",
        "\n",
        "## Mathematical Background\n",
        "In classification we are interested in learning a function that maps an input $\\mathbf{x}\\in\\mathbb{R}^{M}$ to one out of possibly many classes. In order to characterize such a mapping, we need a mathematical expression to uniquely identify different classes. This is typically done by assigning each class an integer value. So in the case of classifying images in the three classes Dog, Cat, Bird one could assign these classes with the one-hot vectors $\\left[1,0,0\\right]^{T},\\left[0,1,0\\right]^{T},\\left[0,0,1\\right]^{T}$. Using one-hot vectors to represent labels of indivudual classes is very useful for training neural networks. It closely matches the mathematical model that we will be using for interpreting the networks output where each of its elements describes a probability. In classification using neural networks we are interested in learning the function\n",
        "\n",
        "$\\mathbf{y}=f_{\\boldsymbol{\\theta}}(\\mathbf{x})$,\n",
        "\n",
        "where $f$ is a neural network with parameters $\\boldsymbol{\\theta}$ that maps our possibly high-dimensional input $\\mathbf{x}\\in\\mathbb{R}^{M}$ to an output $\\mathbf{y}\\in\\lbrace0,1\\rbrace^{k}$ that represents one out of $k$ possible classes. Similar to the regression exercise, we will use a probabilistic view on this problem in order to derive a suitable cost function we can use to train our model. This time however, we will not introduce uncertainty through assuming some sort of noise acting on the prediction of the model as we did in the previous exercise. Instead we will treat both $\\mathbf{x}$ and $\\mathbf{y}$ as random variables with probability distribution functions (pdfs) $p(\\mathbf{x})$ and $p(\\mathbf{y})$. We already know that $\\mathbf{y}$ can be one  out of $k$ classes, i.e. $p(\\mathbf{y})$ is a cateorical distribution. Instead of trying to learn a deterministic function that maps an input $\\mathbf{x}$ to an output $\\mathbf{y}$ we can instead learn a function that takes $\\mathbf{x}$ as an input and outputs a pdf over our $k$ different classes, i.e. $p(\\mathbf{y}\\vert\\mathbf{x})$. In order to then classify an input we typically assign it with the class label that is most likely. In this way we can easily interprete the output of the model and also incorporate prior information into our decision. Using this probabilistic perspective on the classification problem we are interested in learning the conditional distribution\n",
        "\n",
        "$p(\\mathbf{y}\\vert\\mathbf{x})=\\prod_{n=1}^{k}\\mu_{n}(\\mathbf{x})^{y_{n}}$,\n",
        "\n",
        "where $y_{n}\\in\\lbrace0,1\\rbrace$,  $\\sum_{n=1}^{k}y_{n}=1$, $0\\leq\\mu_{n}(\\mathbf{x})\\leq1$ and $\\sum_{n=1}^{k}\\mu_{n}(\\mathbf{x})=1$. In other words, we want to learn the parameters of a neural network $\\boldsymbol{\\theta}$ that, given an input $\\mathbf{x}$, outputs $\\mu_{n}(\\mathbf{x})$ for $1\\leq n\\leq k$ satisfying the constraints $0\\leq\\mu_{n}(\\mathbf{x})\\leq1$ and $\\sum_{n=1}^{k}\\mu_{n}(\\mathbf{x})=1$. Practically, we can realize this by designing a neural network that accepts $\\mathbf{x}$ as an input and has an output layer with $k$ neurons and a softmax activation function. In order to derive a cost function for learning the parameters $\\boldsymbol{\\theta}$ of the neural network, we will again use the log likelihood\n",
        "\n",
        "$\\mathcal{L}(\\mathbf{x},\\mathbf{y},\\boldsymbol{\\theta})=\\ln{p(\\mathbf{y}\\vert\\mathbf{x},\\boldsymbol{\\theta})}=\\ln{\\prod_{n=1}^{k}\\mu_{n}(\\mathbf{x})^{y_{n}}}=\\sum_{n=1}^{k}y_{n}\\ln{\\mu_{n}(\\mathbf{x})}$,\n",
        "\n",
        "where $\\mu_{n}(\\mathbf{x})$ depends on the parameters $\\boldsymbol{\\theta}$ of the neural network. The log likelihood measures how likely $\\mathbf{y}$ is given $\\mathbf{x}$ and the parameters $\\boldsymbol{\\theta}$. Maximizing the expected log likelihood over the complete data set yields the optimal parameters\n",
        "\n",
        "$\\boldsymbol{\\theta}^{\\star}=\\arg\\max_{\\boldsymbol{\\theta}}\\mathbb{E}\\left[\\mathcal{L}(\\mathbf{x},\\mathbf{y},\\boldsymbol{\\theta})\\right]=\\arg\\min_{\\boldsymbol{\\theta}}-\\mathbb{E}\\left[\\sum_{n=1}^{k}y_{n}\\ln{\\mu_{n}(\\mathbf{x})}\\right]\\approx\\arg\\min_{\\boldsymbol{\\theta}}-\\dfrac{1}{N}\\sum_{i=1}^{N}\\sum_{n=1}^{k}y_{n,i}\\ln{\\mu_{n}(\\mathbf{x}_{i})}$,\n",
        "\n",
        "where we have reformulated the maximization as a minimization of the negative objective function and approximated the expectation with a sum. As you probably already noticed, the last term is the cross entropy loss that you are familiar with from the lecture. We can now again use SGD or some variant of it in order to minimize the cost function and obtain find some good parameters for our neural network. But keep in mind that while $\\boldsymbol{\\theta}^{\\star}$ are the globally optimal parameters, we are usually only able to find locally optimal parameters due to the non-convex cost function that we are minimizing.\n",
        "\n",
        "## Data set\n",
        "In this exercise we will use common data sets like the MNIST or FashionMNIST data sets. Those and some other data sets are provided through simple functions in the Keras implementation of Tensorflow. For an overview of available data sets and how to use them click [here](https://www.tensorflow.org/versions/r2.0/api_docs/python/tf/keras/datasets). The MNIST data set is a simple and very popular data set for handwritten digit classification. It contains $70000$ images with $28\\times 28$ pixels that are split into $60000$ training and $10000$ test samples. Since the task is to classify a handwritten digit, the labels $y$ for each image are from the set $\\lbrace0,\\ldots,9\\rbrace$. The FashionMNIST data set is very similar to MNIST it also has approximately the same number of images with exactly the same dimensions as MNIST. It was provided by Zalando research and contains $10$ classes of different fashion objects.\n",
        "\n",
        "## Implementation\n",
        "We can simply import all required packages and load some data set using Keras."
      ]
    },
    {
      "cell_type": "code",
      "metadata": {
        "colab_type": "code",
        "id": "9Xk5sOe1kLgo",
        "colab": {
          "base_uri": "https://localhost:8080/",
          "height": 52
        },
        "outputId": "47655a80-19ff-499b-dc69-749b7dc52bfa"
      },
      "source": [
        "import tensorflow as tf\n",
        "import tensorflow.keras as k\n",
        "import numpy as np\n",
        "import matplotlib.pyplot as plt\n",
        "\n",
        "# Define constants\n",
        "batch_size = 128\n",
        "epochs = 20\n",
        "learning_rate = 0.001\n",
        "\n",
        "(x_train_mnist, y_train_mnist), (x_test_mnist, y_test_mnist) = tf.keras.datasets.mnist.load_data()\n",
        "x_train_mnist = np.expand_dims(x_train_mnist, axis=-1).astype(np.float32)\n",
        "x_test_mnist = np.expand_dims(x_test_mnist, axis=-1).astype(np.float32)"
      ],
      "execution_count": 1,
      "outputs": [
        {
          "output_type": "stream",
          "text": [
            "Downloading data from https://storage.googleapis.com/tensorflow/tf-keras-datasets/mnist.npz\n",
            "11493376/11490434 [==============================] - 0s 0us/step\n"
          ],
          "name": "stdout"
        }
      ]
    },
    {
      "cell_type": "markdown",
      "metadata": {
        "colab_type": "text",
        "id": "jrs0EEdOknCB"
      },
      "source": [
        "We can also plot some examples in order to get an impresion of what the data looks like."
      ]
    },
    {
      "cell_type": "code",
      "metadata": {
        "colab_type": "code",
        "id": "iqN-BjZpkxb4",
        "colab": {
          "base_uri": "https://localhost:8080/",
          "height": 248
        },
        "outputId": "880b488f-4da0-4740-d16e-87348196dfe4"
      },
      "source": [
        "plt_img = np.zeros((280, 280))\n",
        "for i in range(10):\n",
        "  for j in range(10):\n",
        "    plt_img[i*28:(i+1)*28, j*28:(j+1)*28] = np.squeeze(x_train_mnist[i*10+j])\n",
        "plt.imshow(plt_img, cmap=\"gray\")\n",
        "plt.axis(\"off\")\n",
        "plt.show()"
      ],
      "execution_count": 2,
      "outputs": [
        {
          "output_type": "display_data",
          "data": {
            "image/png": "[encoded data removed]",
            "text/plain": [
              "<Figure size 432x288 with 1 Axes>"
            ]
          },
          "metadata": {
            "tags": [],
            "needs_background": "light"
          }
        }
      ]
    },
    {
      "cell_type": "markdown",
      "metadata": {
        "colab_type": "text",
        "id": "83RW1--_mTH7"
      },
      "source": [
        "Similar to the previous exercises we again derive a class for our model from the Keras Model class."
      ]
    },
    {
      "cell_type": "code",
      "metadata": {
        "colab_type": "code",
        "id": "tmk7DlUWoq5X",
        "colab": {}
      },
      "source": [
        "\"\"\" Define a small convolutional network for classification with two conv. and 3 dense layers. The conv. layers should have 8/16 filters a kernel size of 3x3 and a stride of 2. The dense layers should have 128/64/? \n",
        "neurons. Choose the activation functions of the layers accordingly.\"\"\"\n",
        "\n",
        "class MyModel(k.Model):\n",
        "    def __init__(self):\n",
        "        super(MyModel, self).__init__()\n",
        "        # Layer definition\n",
        "        self.conv0 = k.layers.Conv2D(8, 3, strides=2, activation='relu')\n",
        "        self.conv1 = k.layers.Conv2D(16, 3, strides=2, activation='relu')\n",
        "        self.flatten = k.layers.Flatten()\n",
        "        self.dense0 = k.layers.Dense(128, activation='relu')\n",
        "        self.dense1 = k.layers.Dense(64, activation='relu')\n",
        "        self.dense2 = k.layers.Dense(10, activation='softmax')\n",
        "\n",
        "    def call(self, inputs, training=False):\n",
        "        # Call layers appropriately to implement a forward pass\n",
        "        output = self.conv0(inputs)\n",
        "        output = self.conv1(output)\n",
        "        output = self.flatten(output)\n",
        "        output = self.dense0(output)\n",
        "        output = self.dense1(output)\n",
        "        output = self.dense2(output)\n",
        "\n",
        "        return output"
      ],
      "execution_count": 3,
      "outputs": []
    },
    {
      "cell_type": "markdown",
      "metadata": {
        "colab_type": "text",
        "id": "1yVUfCeso4TS"
      },
      "source": [
        "We can now instantiate an object of this class and compile it using the the cross-entropy loss function."
      ]
    },
    {
      "cell_type": "code",
      "metadata": {
        "colab_type": "code",
        "id": "1-hWI4rVpvdU",
        "colab": {}
      },
      "source": [
        "\"\"\" Instantiate an object of MyModel and an RMSprop optimizer with learning rate given by the constant \"learning_rate\". Compile the model with a suitable loss function and add accuracy as a metric. \"\"\"\n",
        "\n",
        "mdl = MyModel()\n",
        "opt = tf.optimizers.RMSprop(learning_rate)\n",
        "mdl.compile(optimizer=opt, loss=\"sparse_categorical_crossentropy\", metrics=[\"accuracy\"])"
      ],
      "execution_count": 6,
      "outputs": []
    },
    {
      "cell_type": "markdown",
      "metadata": {
        "colab_type": "text",
        "id": "bzMR_g1-qHTx"
      },
      "source": [
        "Now we are ready to train the model and log the metrics for plotting."
      ]
    },
    {
      "cell_type": "code",
      "metadata": {
        "colab_type": "code",
        "id": "V1vU1bnnqJZG",
        "colab": {
          "base_uri": "https://localhost:8080/",
          "height": 712
        },
        "outputId": "6370175f-c9d7-45c9-c276-4e3005a0320a"
      },
      "source": [
        "\"\"\" Train the model mdl on the training data with a batch size of \"batch_size\" for \"epochs\" epochs. Train with 10% of the training data as validation data. \"\"\"\n",
        "\n",
        "history_no_dropout = mdl.fit(x_train_mnist, y_train_mnist, batch_size, epochs, validation_split=0.1, shuffle=True)"
      ],
      "execution_count": 7,
      "outputs": [
        {
          "output_type": "stream",
          "text": [
            "Epoch 1/20\n",
            "422/422 [==============================] - 3s 6ms/step - loss: 0.4869 - accuracy: 0.8771 - val_loss: 0.1053 - val_accuracy: 0.9712\n",
            "Epoch 2/20\n",
            "422/422 [==============================] - 2s 5ms/step - loss: 0.1055 - accuracy: 0.9686 - val_loss: 0.0934 - val_accuracy: 0.9705\n",
            "Epoch 3/20\n",
            "422/422 [==============================] - 2s 5ms/step - loss: 0.0687 - accuracy: 0.9788 - val_loss: 0.0788 - val_accuracy: 0.9787\n",
            "Epoch 4/20\n",
            "422/422 [==============================] - 2s 5ms/step - loss: 0.0480 - accuracy: 0.9851 - val_loss: 0.0726 - val_accuracy: 0.9807\n",
            "Epoch 5/20\n",
            "422/422 [==============================] - 2s 5ms/step - loss: 0.0365 - accuracy: 0.9885 - val_loss: 0.1064 - val_accuracy: 0.9757\n",
            "Epoch 6/20\n",
            "422/422 [==============================] - 2s 5ms/step - loss: 0.0293 - accuracy: 0.9909 - val_loss: 0.0811 - val_accuracy: 0.9842\n",
            "Epoch 7/20\n",
            "422/422 [==============================] - 2s 5ms/step - loss: 0.0243 - accuracy: 0.9924 - val_loss: 0.0820 - val_accuracy: 0.9823\n",
            "Epoch 8/20\n",
            "422/422 [==============================] - 2s 5ms/step - loss: 0.0204 - accuracy: 0.9937 - val_loss: 0.0894 - val_accuracy: 0.9835\n",
            "Epoch 9/20\n",
            "422/422 [==============================] - 2s 5ms/step - loss: 0.0174 - accuracy: 0.9948 - val_loss: 0.0788 - val_accuracy: 0.9843\n",
            "Epoch 10/20\n",
            "422/422 [==============================] - 2s 5ms/step - loss: 0.0159 - accuracy: 0.9952 - val_loss: 0.1151 - val_accuracy: 0.9815\n",
            "Epoch 11/20\n",
            "422/422 [==============================] - 2s 5ms/step - loss: 0.0148 - accuracy: 0.9957 - val_loss: 0.1082 - val_accuracy: 0.9823\n",
            "Epoch 12/20\n",
            "422/422 [==============================] - 2s 5ms/step - loss: 0.0125 - accuracy: 0.9962 - val_loss: 0.1028 - val_accuracy: 0.9848\n",
            "Epoch 13/20\n",
            "422/422 [==============================] - 2s 5ms/step - loss: 0.0117 - accuracy: 0.9961 - val_loss: 0.1055 - val_accuracy: 0.9843\n",
            "Epoch 14/20\n",
            "422/422 [==============================] - 2s 6ms/step - loss: 0.0116 - accuracy: 0.9966 - val_loss: 0.1305 - val_accuracy: 0.9833\n",
            "Epoch 15/20\n",
            "422/422 [==============================] - 2s 6ms/step - loss: 0.0139 - accuracy: 0.9965 - val_loss: 0.1341 - val_accuracy: 0.9842\n",
            "Epoch 16/20\n",
            "422/422 [==============================] - 2s 6ms/step - loss: 0.0102 - accuracy: 0.9972 - val_loss: 0.1407 - val_accuracy: 0.9835\n",
            "Epoch 17/20\n",
            "422/422 [==============================] - 3s 6ms/step - loss: 0.0113 - accuracy: 0.9970 - val_loss: 0.1484 - val_accuracy: 0.9825\n",
            "Epoch 18/20\n",
            "422/422 [==============================] - 2s 5ms/step - loss: 0.0106 - accuracy: 0.9972 - val_loss: 0.1405 - val_accuracy: 0.9837\n",
            "Epoch 19/20\n",
            "422/422 [==============================] - 2s 5ms/step - loss: 0.0117 - accuracy: 0.9970 - val_loss: 0.1438 - val_accuracy: 0.9852\n",
            "Epoch 20/20\n",
            "422/422 [==============================] - 2s 5ms/step - loss: 0.0086 - accuracy: 0.9979 - val_loss: 0.1685 - val_accuracy: 0.9832\n"
          ],
          "name": "stdout"
        }
      ]
    },
    {
      "cell_type": "markdown",
      "metadata": {
        "colab_type": "text",
        "id": "4OhKjUnwtr3M"
      },
      "source": [
        "Visualizing the training process in a plot is possible by using the history object that contains a history dictionary. This is returned from the fit function and contains all the metrics logged over the training proces."
      ]
    },
    {
      "cell_type": "code",
      "metadata": {
        "colab_type": "code",
        "id": "bPuH5kBQt5yw",
        "colab": {
          "base_uri": "https://localhost:8080/",
          "height": 295
        },
        "outputId": "f788383c-bef9-4f23-fa77-5de8408efb6a"
      },
      "source": [
        "plt.plot(history_no_dropout.history[\"loss\"])\n",
        "plt.plot(history_no_dropout.history[\"val_loss\"])\n",
        "plt.legend([\"loss\", \"val_loss\"])\n",
        "plt.xticks(range(epochs))\n",
        "plt.xlabel(\"epochs\")\n",
        "plt.title(\"Training process\")\n",
        "plt.show()"
      ],
      "execution_count": 8,
      "outputs": [
        {
          "output_type": "display_data",
          "data": {
            "image/png": "[encoded data removed]",
            "text/plain": [
              "<Figure size 432x288 with 1 Axes>"
            ]
          },
          "metadata": {
            "tags": [],
            "needs_background": "light"
          }
        }
      ]
    },
    {
      "cell_type": "markdown",
      "metadata": {
        "colab_type": "text",
        "id": "bB1KeA-Ww9nE"
      },
      "source": [
        "As you can see, the model is clearly overfitting. The loss on the training data is decreasing further and further with every epoch, while the loss on the validation data rises at the same time. We can avoid this by using dropout, which is a strong regularization that you should be familiar with from the lecture. For this we define a new model that has an additional dropout layer with a drop probability of $0.25$ before the first fully connected layer. Otherwise this model is the same as the model above."
      ]
    },
    {
      "cell_type": "code",
      "metadata": {
        "colab_type": "code",
        "id": "NowP4zSsxfhe",
        "colab": {}
      },
      "source": [
        "\"\"\" Create a new model, which is identical to MyModel execpt for a dropout layer between the conv. and dense layers. As a dropout rate use 0.25 \"\"\"\n",
        "\n",
        "class MyDropoutModel(k.Model):\n",
        "    def __init__(self):\n",
        "        super(MyDropoutModel, self).__init__()\n",
        "        # Layer definition\n",
        "        self.conv0 = k.layers.Conv2D(8, 3, strides=2, activation='relu')\n",
        "        self.conv1 = k.layers.Conv2D(16, 3, strides=2, activation='relu')\n",
        "        self.flatten = k.layers.Flatten()\n",
        "        self.dropout = k.layers.Dropout(rate=0.25)\n",
        "        self.dense0 = k.layers.Dense(128, activation='relu')\n",
        "        self.dense1 = k.layers.Dense(64, activation='relu')\n",
        "        self.dense2 = k.layers.Dense(10, activation='softmax')\n",
        "\n",
        "    def call(self, inputs, training=False):\n",
        "        # Call layers appropriately in order to implement the forward pass\n",
        "        output = self.conv0(inputs)\n",
        "        output = self.conv1(output)\n",
        "        output = self.flatten(output)\n",
        "        output = self.dropout(output, training=training)\n",
        "        output = self.dense0(output)\n",
        "        output = self.dense1(output)\n",
        "        output = self.dense2(output)\n",
        "        return output"
      ],
      "execution_count": 9,
      "outputs": []
    },
    {
      "cell_type": "markdown",
      "metadata": {
        "colab_type": "text",
        "id": "_XivWPeUxphB"
      },
      "source": [
        "We can now create an instance of this model, train it and visualize the training process."
      ]
    },
    {
      "cell_type": "code",
      "metadata": {
        "colab_type": "code",
        "id": "VZxNQX2Bxtno",
        "colab": {
          "base_uri": "https://localhost:8080/",
          "height": 990
        },
        "outputId": "4d2a61d2-4e54-4b0c-8f61-110b097fe485"
      },
      "source": [
        "\"\"\" Instantiate a MyDropoutModel object, compile and train it on the training data. Use the same optimizer and parameters for training as before. \"\"\"\n",
        "\n",
        "dropout_mdl = MyDropoutModel()\n",
        "dropout_opt = tf.optimizers.RMSprop(learning_rate)\n",
        "dropout_mdl.compile(optimizer=opt, loss=\"sparse_categorical_crossentropy\", metrics=[\"accuracy\"])\n",
        "\n",
        "history_dropout = dropout_mdl.fit(x_train_mnist, y_train_mnist, batch_size, epochs, validation_split=0.1, shuffle=True)\n",
        "\n",
        "plt.plot(history_no_dropout.history[\"loss\"])\n",
        "plt.plot(history_no_dropout.history[\"val_loss\"])\n",
        "plt.plot(history_dropout.history[\"loss\"])\n",
        "plt.plot(history_dropout.history[\"val_loss\"])\n",
        "plt.legend([\"loss\", \"val_loss\", \"loss w. dropout\", \"val_loss w. dropout\"])\n",
        "plt.xticks(range(epochs))\n",
        "plt.xlabel(\"epochs\")\n",
        "plt.title(\"Training process\")\n",
        "plt.show()"
      ],
      "execution_count": 10,
      "outputs": [
        {
          "output_type": "stream",
          "text": [
            "Epoch 1/20\n",
            "422/422 [==============================] - 2s 6ms/step - loss: 0.7243 - accuracy: 0.8558 - val_loss: 0.1070 - val_accuracy: 0.9650\n",
            "Epoch 2/20\n",
            "422/422 [==============================] - 2s 5ms/step - loss: 0.1572 - accuracy: 0.9517 - val_loss: 0.0815 - val_accuracy: 0.9773\n",
            "Epoch 3/20\n",
            "422/422 [==============================] - 2s 5ms/step - loss: 0.1150 - accuracy: 0.9648 - val_loss: 0.0605 - val_accuracy: 0.9818\n",
            "Epoch 4/20\n",
            "422/422 [==============================] - 2s 5ms/step - loss: 0.0913 - accuracy: 0.9714 - val_loss: 0.0650 - val_accuracy: 0.9812\n",
            "Epoch 5/20\n",
            "422/422 [==============================] - 2s 5ms/step - loss: 0.0794 - accuracy: 0.9757 - val_loss: 0.0580 - val_accuracy: 0.9840\n",
            "Epoch 6/20\n",
            "422/422 [==============================] - 2s 5ms/step - loss: 0.0698 - accuracy: 0.9782 - val_loss: 0.0565 - val_accuracy: 0.9843\n",
            "Epoch 7/20\n",
            "422/422 [==============================] - 2s 5ms/step - loss: 0.0640 - accuracy: 0.9799 - val_loss: 0.0550 - val_accuracy: 0.9852\n",
            "Epoch 8/20\n",
            "422/422 [==============================] - 2s 5ms/step - loss: 0.0583 - accuracy: 0.9817 - val_loss: 0.0585 - val_accuracy: 0.9863\n",
            "Epoch 9/20\n",
            "422/422 [==============================] - 2s 5ms/step - loss: 0.0543 - accuracy: 0.9831 - val_loss: 0.0464 - val_accuracy: 0.9873\n",
            "Epoch 10/20\n",
            "422/422 [==============================] - 2s 5ms/step - loss: 0.0519 - accuracy: 0.9843 - val_loss: 0.0510 - val_accuracy: 0.9862\n",
            "Epoch 11/20\n",
            "422/422 [==============================] - 2s 5ms/step - loss: 0.0473 - accuracy: 0.9849 - val_loss: 0.0511 - val_accuracy: 0.9878\n",
            "Epoch 12/20\n",
            "422/422 [==============================] - 2s 5ms/step - loss: 0.0453 - accuracy: 0.9855 - val_loss: 0.0594 - val_accuracy: 0.9853\n",
            "Epoch 13/20\n",
            "422/422 [==============================] - 2s 5ms/step - loss: 0.0450 - accuracy: 0.9856 - val_loss: 0.0549 - val_accuracy: 0.9867\n",
            "Epoch 14/20\n",
            "422/422 [==============================] - 2s 5ms/step - loss: 0.0415 - accuracy: 0.9873 - val_loss: 0.0612 - val_accuracy: 0.9868\n",
            "Epoch 15/20\n",
            "422/422 [==============================] - 2s 5ms/step - loss: 0.0402 - accuracy: 0.9874 - val_loss: 0.0511 - val_accuracy: 0.9890\n",
            "Epoch 16/20\n",
            "422/422 [==============================] - 2s 5ms/step - loss: 0.0401 - accuracy: 0.9877 - val_loss: 0.0519 - val_accuracy: 0.9877\n",
            "Epoch 17/20\n",
            "422/422 [==============================] - 2s 5ms/step - loss: 0.0372 - accuracy: 0.9879 - val_loss: 0.0581 - val_accuracy: 0.9877\n",
            "Epoch 18/20\n",
            "422/422 [==============================] - 2s 5ms/step - loss: 0.0377 - accuracy: 0.9881 - val_loss: 0.0492 - val_accuracy: 0.9883\n",
            "Epoch 19/20\n",
            "422/422 [==============================] - 2s 5ms/step - loss: 0.0387 - accuracy: 0.9884 - val_loss: 0.0553 - val_accuracy: 0.9882\n",
            "Epoch 20/20\n",
            "422/422 [==============================] - 2s 5ms/step - loss: 0.0360 - accuracy: 0.9894 - val_loss: 0.0578 - val_accuracy: 0.9863\n"
          ],
          "name": "stdout"
        },
        {
          "output_type": "display_data",
          "data": {
            "image/png": "[encoded data removed]",
            "text/plain": [
              "<Figure size 432x288 with 1 Axes>"
            ]
          },
          "metadata": {
            "tags": [],
            "needs_background": "light"
          }
        }
      ]
    },
    {
      "cell_type": "markdown",
      "metadata": {
        "colab_type": "text",
        "id": "bKRoJPWNNBxS"
      },
      "source": [
        "While the model without dropout can reach a much lower loss on the training data, it generalizes very poorly to the unseen validation data. The model with dropout however generalizes quite good to the validation data and achieves a similar loss on both the data used during training and unseen data. This demonstrates that using dropout can be a good way to regularize your networks and prevent overfitting. Although dropout helps to prevent overfitting very well, it introduces another hyperparameter, the drop probability, that needs to be optimized. Common values for this hyperparameter are on the interval $\\left[0.2,0.5\\right]$.\n",
        "\n",
        "## Transfer Learning\n",
        "In many applications there is only a limited amount of annotated data available. In order to still train a neural network that generalizes well on such a data set, one can use transfer learning. In transfer learning the goal is to transfer knowledge from a source domain or task to a target domain or task. The hope is that this transfer will be positive, i.e. the performance on the target domain or task increases compared to only training on the target data set. A requirement for succesfull transfer learning is that the source and target have something in common, e.g. similar features. There is a broad literature on transfer learning methods but in this exercise we will restrict ourselves to the most basic approach, fine tuning. Fine tuning can be implemented by using a part of a neural network, which was trained on the source domain or task, as a feature extractor. A common approach is to use neral network pretrained on the ImageNet data set as a feature extractor. In this exercise, we will also use a neural network pretrained on ImageNet in order to fine tune it for the [Caltech 101](http://www.vision.caltech.edu/Image_Datasets/Caltech101/) data set. For a guide on transfer learning using fine tuning with Keras click [here](https://www.tensorflow.org/beta/tutorials/images/transfer_learning).\n",
        "\n",
        "In order to do this we first need to download an extract the data set. Note that there is a wide collection of data sets available through the [tensorflow_datasets](https://www.tensorflow.org/datasets) package including Caltech101. But for demonstration purposses we manually download and load the images using Keras."
      ]
    },
    {
      "cell_type": "code",
      "metadata": {
        "colab_type": "code",
        "id": "WZLz-aD6tgvR",
        "colab": {
          "base_uri": "https://localhost:8080/",
          "height": 208
        },
        "outputId": "812c2451-b326-4161-be68-072b2e48068a"
      },
      "source": [
        "!wget -N http://www.vision.caltech.edu/Image_Datasets/Caltech101/101_ObjectCategories.tar.gz\n",
        "!tar -xzf 101_ObjectCategories.tar.gz"
      ],
      "execution_count": 11,
      "outputs": [
        {
          "output_type": "stream",
          "text": [
            "--2020-06-22 18:45:25--  http://www.vision.caltech.edu/Image_Datasets/Caltech101/101_ObjectCategories.tar.gz\n",
            "Resolving www.vision.caltech.edu (www.vision.caltech.edu)... 34.208.54.77\n",
            "Connecting to www.vision.caltech.edu (www.vision.caltech.edu)|34.208.54.77|:80... connected.\n",
            "HTTP request sent, awaiting response... 200 OK\n",
            "Length: 131740031 (126M) [application/x-tar]\n",
            "Saving to: ‘101_ObjectCategories.tar.gz’\n",
            "\n",
            "101_ObjectCategorie 100%[===================>] 125.64M  7.50MB/s    in 20s     \n",
            "\n",
            "2020-06-22 18:45:45 (6.37 MB/s) - ‘101_ObjectCategories.tar.gz’ saved [131740031/131740031]\n",
            "\n"
          ],
          "name": "stdout"
        }
      ]
    },
    {
      "cell_type": "markdown",
      "metadata": {
        "colab_type": "text",
        "id": "4YVR0yd-3A3w"
      },
      "source": [
        "In order to feed our model with the data, we will use the ImageDataGenerator class provided by Keras. This class can be used for reading files from a structured directory, create the labels based on the structure of the directory and apply data augmentation techniques. The ImageDataGenerator already supports a lot of techniques for data augmentation. In our example, we use a random rotation, width shift, height shift, shearing, zomming and horizontal flipping. All of those operations are applied randomly to individual images. More information on the available transformations for data augmentation and how to use them see the [documentation](https://www.tensorflow.org/versions/r2.2/api_docs/python/tf/keras/preprocessing/image/ImageDataGenerator#__init__)."
      ]
    },
    {
      "cell_type": "code",
      "metadata": {
        "colab_type": "code",
        "id": "WueTCO3F3iKl",
        "colab": {}
      },
      "source": [
        "N_samples_Caltech101 = 9144\n",
        "val_split = 0.1\n",
        "datagen = k.preprocessing.image.ImageDataGenerator(validation_split=val_split,\n",
        "                                                   preprocessing_function=k.applications.mobilenet_v2.preprocess_input,\n",
        "                                                   rotation_range=20,\n",
        "                                                   width_shift_range=0.1,\n",
        "                                                   height_shift_range=0.1,\n",
        "                                                   shear_range=0.1,\n",
        "                                                   zoom_range=0.1,\n",
        "                                                   horizontal_flip=True)"
      ],
      "execution_count": 12,
      "outputs": []
    },
    {
      "cell_type": "markdown",
      "metadata": {
        "colab_type": "text",
        "id": "PyqbHZfO0ein"
      },
      "source": [
        "Now that we have the data set we can load the pretrained model. Keras provides a range of pretrained models called \"applications\", click [here](https://www.tensorflow.org/api_docs/python/tf/keras/applications) for a link to its documentation. We will use the MobileNetV2 architecture without it's output layer, since we want to modify it in order to apply the model to the Caltech 101 data set."
      ]
    },
    {
      "cell_type": "code",
      "metadata": {
        "colab_type": "code",
        "id": "ZkGHDLKZ0uUy",
        "colab": {
          "base_uri": "https://localhost:8080/",
          "height": 1000
        },
        "outputId": "bfdbd3ef-23b3-4513-ebf7-0d4f83ea70ff"
      },
      "source": [
        "\"\"\" Instantiate a MobileNetV2 with weights pretrained on ImageNet and without the top/output layer. Hint: Use Keras Applications\"\"\"\n",
        "\n",
        "base_model = tf.keras.applications.MobileNetV2(weights='imagenet', include_top=False)\n",
        "base_model.summary()"
      ],
      "execution_count": 13,
      "outputs": [
        {
          "output_type": "stream",
          "text": [
            "WARNING:tensorflow:`input_shape` is undefined or non-square, or `rows` is not in [96, 128, 160, 192, 224]. Weights for input shape (224, 224) will be loaded as the default.\n",
            "Downloading data from https://storage.googleapis.com/tensorflow/keras-applications/mobilenet_v2/mobilenet_v2_weights_tf_dim_ordering_tf_kernels_1.0_224_no_top.h5\n",
            "9412608/9406464 [==============================] - 0s 0us/step\n",
            "Model: \"mobilenetv2_1.00_224\"\n",
            "__________________________________________________________________________________________________\n",
            "Layer (type)                    Output Shape         Param #     Connected to                     \n",
            "==================================================================================================\n",
            "input_1 (InputLayer)            [(None, None, None,  0                                            \n",
            "__________________________________________________________________________________________________\n",
            "Conv1_pad (ZeroPadding2D)       (None, None, None, 3 0           input_1[0][0]                    \n",
            "__________________________________________________________________________________________________\n",
            "Conv1 (Conv2D)                  (None, None, None, 3 864         Conv1_pad[0][0]                  \n",
            "__________________________________________________________________________________________________\n",
            "bn_Conv1 (BatchNormalization)   (None, None, None, 3 128         Conv1[0][0]                      \n",
            "__________________________________________________________________________________________________\n",
            "Conv1_relu (ReLU)               (None, None, None, 3 0           bn_Conv1[0][0]                   \n",
            "__________________________________________________________________________________________________\n",
            "expanded_conv_depthwise (Depthw (None, None, None, 3 288         Conv1_relu[0][0]                 \n",
            "__________________________________________________________________________________________________\n",
            "expanded_conv_depthwise_BN (Bat (None, None, None, 3 128         expanded_conv_depthwise[0][0]    \n",
            "__________________________________________________________________________________________________\n",
            "expanded_conv_depthwise_relu (R (None, None, None, 3 0           expanded_conv_depthwise_BN[0][0] \n",
            "__________________________________________________________________________________________________\n",
            "expanded_conv_project (Conv2D)  (None, None, None, 1 512         expanded_conv_depthwise_relu[0][0\n",
            "__________________________________________________________________________________________________\n",
            "expanded_conv_project_BN (Batch (None, None, None, 1 64          expanded_conv_project[0][0]      \n",
            "__________________________________________________________________________________________________\n",
            "block_1_expand (Conv2D)         (None, None, None, 9 1536        expanded_conv_project_BN[0][0]   \n",
            "__________________________________________________________________________________________________\n",
            "block_1_expand_BN (BatchNormali (None, None, None, 9 384         block_1_expand[0][0]             \n",
            "__________________________________________________________________________________________________\n",
            "block_1_expand_relu (ReLU)      (None, None, None, 9 0           block_1_expand_BN[0][0]          \n",
            "__________________________________________________________________________________________________\n",
            "block_1_pad (ZeroPadding2D)     (None, None, None, 9 0           block_1_expand_relu[0][0]        \n",
            "__________________________________________________________________________________________________\n",
            "block_1_depthwise (DepthwiseCon (None, None, None, 9 864         block_1_pad[0][0]                \n",
            "__________________________________________________________________________________________________\n",
            "block_1_depthwise_BN (BatchNorm (None, None, None, 9 384         block_1_depthwise[0][0]          \n",
            "__________________________________________________________________________________________________\n",
            "block_1_depthwise_relu (ReLU)   (None, None, None, 9 0           block_1_depthwise_BN[0][0]       \n",
            "__________________________________________________________________________________________________\n",
            "block_1_project (Conv2D)        (None, None, None, 2 2304        block_1_depthwise_relu[0][0]     \n",
            "__________________________________________________________________________________________________\n",
            "block_1_project_BN (BatchNormal (None, None, None, 2 96          block_1_project[0][0]            \n",
            "__________________________________________________________________________________________________\n",
            "block_2_expand (Conv2D)         (None, None, None, 1 3456        block_1_project_BN[0][0]         \n",
            "__________________________________________________________________________________________________\n",
            "block_2_expand_BN (BatchNormali (None, None, None, 1 576         block_2_expand[0][0]             \n",
            "__________________________________________________________________________________________________\n",
            "block_2_expand_relu (ReLU)      (None, None, None, 1 0           block_2_expand_BN[0][0]          \n",
            "__________________________________________________________________________________________________\n",
            "block_2_depthwise (DepthwiseCon (None, None, None, 1 1296        block_2_expand_relu[0][0]        \n",
            "__________________________________________________________________________________________________\n",
            "block_2_depthwise_BN (BatchNorm (None, None, None, 1 576         block_2_depthwise[0][0]          \n",
            "__________________________________________________________________________________________________\n",
            "block_2_depthwise_relu (ReLU)   (None, None, None, 1 0           block_2_depthwise_BN[0][0]       \n",
            "__________________________________________________________________________________________________\n",
            "block_2_project (Conv2D)        (None, None, None, 2 3456        block_2_depthwise_relu[0][0]     \n",
            "__________________________________________________________________________________________________\n",
            "block_2_project_BN (BatchNormal (None, None, None, 2 96          block_2_project[0][0]            \n",
            "__________________________________________________________________________________________________\n",
            "block_2_add (Add)               (None, None, None, 2 0           block_1_project_BN[0][0]         \n",
            "                                                                 block_2_project_BN[0][0]         \n",
            "__________________________________________________________________________________________________\n",
            "block_3_expand (Conv2D)         (None, None, None, 1 3456        block_2_add[0][0]                \n",
            "__________________________________________________________________________________________________\n",
            "block_3_expand_BN (BatchNormali (None, None, None, 1 576         block_3_expand[0][0]             \n",
            "__________________________________________________________________________________________________\n",
            "block_3_expand_relu (ReLU)      (None, None, None, 1 0           block_3_expand_BN[0][0]          \n",
            "__________________________________________________________________________________________________\n",
            "block_3_pad (ZeroPadding2D)     (None, None, None, 1 0           block_3_expand_relu[0][0]        \n",
            "__________________________________________________________________________________________________\n",
            "block_3_depthwise (DepthwiseCon (None, None, None, 1 1296        block_3_pad[0][0]                \n",
            "__________________________________________________________________________________________________\n",
            "block_3_depthwise_BN (BatchNorm (None, None, None, 1 576         block_3_depthwise[0][0]          \n",
            "__________________________________________________________________________________________________\n",
            "block_3_depthwise_relu (ReLU)   (None, None, None, 1 0           block_3_depthwise_BN[0][0]       \n",
            "__________________________________________________________________________________________________\n",
            "block_3_project (Conv2D)        (None, None, None, 3 4608        block_3_depthwise_relu[0][0]     \n",
            "__________________________________________________________________________________________________\n",
            "block_3_project_BN (BatchNormal (None, None, None, 3 128         block_3_project[0][0]            \n",
            "__________________________________________________________________________________________________\n",
            "block_4_expand (Conv2D)         (None, None, None, 1 6144        block_3_project_BN[0][0]         \n",
            "__________________________________________________________________________________________________\n",
            "block_4_expand_BN (BatchNormali (None, None, None, 1 768         block_4_expand[0][0]             \n",
            "__________________________________________________________________________________________________\n",
            "block_4_expand_relu (ReLU)      (None, None, None, 1 0           block_4_expand_BN[0][0]          \n",
            "__________________________________________________________________________________________________\n",
            "block_4_depthwise (DepthwiseCon (None, None, None, 1 1728        block_4_expand_relu[0][0]        \n",
            "__________________________________________________________________________________________________\n",
            "block_4_depthwise_BN (BatchNorm (None, None, None, 1 768         block_4_depthwise[0][0]          \n",
            "__________________________________________________________________________________________________\n",
            "block_4_depthwise_relu (ReLU)   (None, None, None, 1 0           block_4_depthwise_BN[0][0]       \n",
            "__________________________________________________________________________________________________\n",
            "block_4_project (Conv2D)        (None, None, None, 3 6144        block_4_depthwise_relu[0][0]     \n",
            "__________________________________________________________________________________________________\n",
            "block_4_project_BN (BatchNormal (None, None, None, 3 128         block_4_project[0][0]            \n",
            "__________________________________________________________________________________________________\n",
            "block_4_add (Add)               (None, None, None, 3 0           block_3_project_BN[0][0]         \n",
            "                                                                 block_4_project_BN[0][0]         \n",
            "__________________________________________________________________________________________________\n",
            "block_5_expand (Conv2D)         (None, None, None, 1 6144        block_4_add[0][0]                \n",
            "__________________________________________________________________________________________________\n",
            "block_5_expand_BN (BatchNormali (None, None, None, 1 768         block_5_expand[0][0]             \n",
            "__________________________________________________________________________________________________\n",
            "block_5_expand_relu (ReLU)      (None, None, None, 1 0           block_5_expand_BN[0][0]          \n",
            "__________________________________________________________________________________________________\n",
            "block_5_depthwise (DepthwiseCon (None, None, None, 1 1728        block_5_expand_relu[0][0]        \n",
            "__________________________________________________________________________________________________\n",
            "block_5_depthwise_BN (BatchNorm (None, None, None, 1 768         block_5_depthwise[0][0]          \n",
            "__________________________________________________________________________________________________\n",
            "block_5_depthwise_relu (ReLU)   (None, None, None, 1 0           block_5_depthwise_BN[0][0]       \n",
            "__________________________________________________________________________________________________\n",
            "block_5_project (Conv2D)        (None, None, None, 3 6144        block_5_depthwise_relu[0][0]     \n",
            "__________________________________________________________________________________________________\n",
            "block_5_project_BN (BatchNormal (None, None, None, 3 128         block_5_project[0][0]            \n",
            "__________________________________________________________________________________________________\n",
            "block_5_add (Add)               (None, None, None, 3 0           block_4_add[0][0]                \n",
            "                                                                 block_5_project_BN[0][0]         \n",
            "__________________________________________________________________________________________________\n",
            "block_6_expand (Conv2D)         (None, None, None, 1 6144        block_5_add[0][0]                \n",
            "__________________________________________________________________________________________________\n",
            "block_6_expand_BN (BatchNormali (None, None, None, 1 768         block_6_expand[0][0]             \n",
            "__________________________________________________________________________________________________\n",
            "block_6_expand_relu (ReLU)      (None, None, None, 1 0           block_6_expand_BN[0][0]          \n",
            "__________________________________________________________________________________________________\n",
            "block_6_pad (ZeroPadding2D)     (None, None, None, 1 0           block_6_expand_relu[0][0]        \n",
            "__________________________________________________________________________________________________\n",
            "block_6_depthwise (DepthwiseCon (None, None, None, 1 1728        block_6_pad[0][0]                \n",
            "__________________________________________________________________________________________________\n",
            "block_6_depthwise_BN (BatchNorm (None, None, None, 1 768         block_6_depthwise[0][0]          \n",
            "__________________________________________________________________________________________________\n",
            "block_6_depthwise_relu (ReLU)   (None, None, None, 1 0           block_6_depthwise_BN[0][0]       \n",
            "__________________________________________________________________________________________________\n",
            "block_6_project (Conv2D)        (None, None, None, 6 12288       block_6_depthwise_relu[0][0]     \n",
            "__________________________________________________________________________________________________\n",
            "block_6_project_BN (BatchNormal (None, None, None, 6 256         block_6_project[0][0]            \n",
            "__________________________________________________________________________________________________\n",
            "block_7_expand (Conv2D)         (None, None, None, 3 24576       block_6_project_BN[0][0]         \n",
            "__________________________________________________________________________________________________\n",
            "block_7_expand_BN (BatchNormali (None, None, None, 3 1536        block_7_expand[0][0]             \n",
            "__________________________________________________________________________________________________\n",
            "block_7_expand_relu (ReLU)      (None, None, None, 3 0           block_7_expand_BN[0][0]          \n",
            "__________________________________________________________________________________________________\n",
            "block_7_depthwise (DepthwiseCon (None, None, None, 3 3456        block_7_expand_relu[0][0]        \n",
            "__________________________________________________________________________________________________\n",
            "block_7_depthwise_BN (BatchNorm (None, None, None, 3 1536        block_7_depthwise[0][0]          \n",
            "__________________________________________________________________________________________________\n",
            "block_7_depthwise_relu (ReLU)   (None, None, None, 3 0           block_7_depthwise_BN[0][0]       \n",
            "__________________________________________________________________________________________________\n",
            "block_7_project (Conv2D)        (None, None, None, 6 24576       block_7_depthwise_relu[0][0]     \n",
            "__________________________________________________________________________________________________\n",
            "block_7_project_BN (BatchNormal (None, None, None, 6 256         block_7_project[0][0]            \n",
            "__________________________________________________________________________________________________\n",
            "block_7_add (Add)               (None, None, None, 6 0           block_6_project_BN[0][0]         \n",
            "                                                                 block_7_project_BN[0][0]         \n",
            "__________________________________________________________________________________________________\n",
            "block_8_expand (Conv2D)         (None, None, None, 3 24576       block_7_add[0][0]                \n",
            "__________________________________________________________________________________________________\n",
            "block_8_expand_BN (BatchNormali (None, None, None, 3 1536        block_8_expand[0][0]             \n",
            "__________________________________________________________________________________________________\n",
            "block_8_expand_relu (ReLU)      (None, None, None, 3 0           block_8_expand_BN[0][0]          \n",
            "__________________________________________________________________________________________________\n",
            "block_8_depthwise (DepthwiseCon (None, None, None, 3 3456        block_8_expand_relu[0][0]        \n",
            "__________________________________________________________________________________________________\n",
            "block_8_depthwise_BN (BatchNorm (None, None, None, 3 1536        block_8_depthwise[0][0]          \n",
            "__________________________________________________________________________________________________\n",
            "block_8_depthwise_relu (ReLU)   (None, None, None, 3 0           block_8_depthwise_BN[0][0]       \n",
            "__________________________________________________________________________________________________\n",
            "block_8_project (Conv2D)        (None, None, None, 6 24576       block_8_depthwise_relu[0][0]     \n",
            "__________________________________________________________________________________________________\n",
            "block_8_project_BN (BatchNormal (None, None, None, 6 256         block_8_project[0][0]            \n",
            "__________________________________________________________________________________________________\n",
            "block_8_add (Add)               (None, None, None, 6 0           block_7_add[0][0]                \n",
            "                                                                 block_8_project_BN[0][0]         \n",
            "__________________________________________________________________________________________________\n",
            "block_9_expand (Conv2D)         (None, None, None, 3 24576       block_8_add[0][0]                \n",
            "__________________________________________________________________________________________________\n",
            "block_9_expand_BN (BatchNormali (None, None, None, 3 1536        block_9_expand[0][0]             \n",
            "__________________________________________________________________________________________________\n",
            "block_9_expand_relu (ReLU)      (None, None, None, 3 0           block_9_expand_BN[0][0]          \n",
            "__________________________________________________________________________________________________\n",
            "block_9_depthwise (DepthwiseCon (None, None, None, 3 3456        block_9_expand_relu[0][0]        \n",
            "__________________________________________________________________________________________________\n",
            "block_9_depthwise_BN (BatchNorm (None, None, None, 3 1536        block_9_depthwise[0][0]          \n",
            "__________________________________________________________________________________________________\n",
            "block_9_depthwise_relu (ReLU)   (None, None, None, 3 0           block_9_depthwise_BN[0][0]       \n",
            "__________________________________________________________________________________________________\n",
            "block_9_project (Conv2D)        (None, None, None, 6 24576       block_9_depthwise_relu[0][0]     \n",
            "__________________________________________________________________________________________________\n",
            "block_9_project_BN (BatchNormal (None, None, None, 6 256         block_9_project[0][0]            \n",
            "__________________________________________________________________________________________________\n",
            "block_9_add (Add)               (None, None, None, 6 0           block_8_add[0][0]                \n",
            "                                                                 block_9_project_BN[0][0]         \n",
            "__________________________________________________________________________________________________\n",
            "block_10_expand (Conv2D)        (None, None, None, 3 24576       block_9_add[0][0]                \n",
            "__________________________________________________________________________________________________\n",
            "block_10_expand_BN (BatchNormal (None, None, None, 3 1536        block_10_expand[0][0]            \n",
            "__________________________________________________________________________________________________\n",
            "block_10_expand_relu (ReLU)     (None, None, None, 3 0           block_10_expand_BN[0][0]         \n",
            "__________________________________________________________________________________________________\n",
            "block_10_depthwise (DepthwiseCo (None, None, None, 3 3456        block_10_expand_relu[0][0]       \n",
            "__________________________________________________________________________________________________\n",
            "block_10_depthwise_BN (BatchNor (None, None, None, 3 1536        block_10_depthwise[0][0]         \n",
            "__________________________________________________________________________________________________\n",
            "block_10_depthwise_relu (ReLU)  (None, None, None, 3 0           block_10_depthwise_BN[0][0]      \n",
            "__________________________________________________________________________________________________\n",
            "block_10_project (Conv2D)       (None, None, None, 9 36864       block_10_depthwise_relu[0][0]    \n",
            "__________________________________________________________________________________________________\n",
            "block_10_project_BN (BatchNorma (None, None, None, 9 384         block_10_project[0][0]           \n",
            "__________________________________________________________________________________________________\n",
            "block_11_expand (Conv2D)        (None, None, None, 5 55296       block_10_project_BN[0][0]        \n",
            "__________________________________________________________________________________________________\n",
            "block_11_expand_BN (BatchNormal (None, None, None, 5 2304        block_11_expand[0][0]            \n",
            "__________________________________________________________________________________________________\n",
            "block_11_expand_relu (ReLU)     (None, None, None, 5 0           block_11_expand_BN[0][0]         \n",
            "__________________________________________________________________________________________________\n",
            "block_11_depthwise (DepthwiseCo (None, None, None, 5 5184        block_11_expand_relu[0][0]       \n",
            "__________________________________________________________________________________________________\n",
            "block_11_depthwise_BN (BatchNor (None, None, None, 5 2304        block_11_depthwise[0][0]         \n",
            "__________________________________________________________________________________________________\n",
            "block_11_depthwise_relu (ReLU)  (None, None, None, 5 0           block_11_depthwise_BN[0][0]      \n",
            "__________________________________________________________________________________________________\n",
            "block_11_project (Conv2D)       (None, None, None, 9 55296       block_11_depthwise_relu[0][0]    \n",
            "__________________________________________________________________________________________________\n",
            "block_11_project_BN (BatchNorma (None, None, None, 9 384         block_11_project[0][0]           \n",
            "__________________________________________________________________________________________________\n",
            "block_11_add (Add)              (None, None, None, 9 0           block_10_project_BN[0][0]        \n",
            "                                                                 block_11_project_BN[0][0]        \n",
            "__________________________________________________________________________________________________\n",
            "block_12_expand (Conv2D)        (None, None, None, 5 55296       block_11_add[0][0]               \n",
            "__________________________________________________________________________________________________\n",
            "block_12_expand_BN (BatchNormal (None, None, None, 5 2304        block_12_expand[0][0]            \n",
            "__________________________________________________________________________________________________\n",
            "block_12_expand_relu (ReLU)     (None, None, None, 5 0           block_12_expand_BN[0][0]         \n",
            "__________________________________________________________________________________________________\n",
            "block_12_depthwise (DepthwiseCo (None, None, None, 5 5184        block_12_expand_relu[0][0]       \n",
            "__________________________________________________________________________________________________\n",
            "block_12_depthwise_BN (BatchNor (None, None, None, 5 2304        block_12_depthwise[0][0]         \n",
            "__________________________________________________________________________________________________\n",
            "block_12_depthwise_relu (ReLU)  (None, None, None, 5 0           block_12_depthwise_BN[0][0]      \n",
            "__________________________________________________________________________________________________\n",
            "block_12_project (Conv2D)       (None, None, None, 9 55296       block_12_depthwise_relu[0][0]    \n",
            "__________________________________________________________________________________________________\n",
            "block_12_project_BN (BatchNorma (None, None, None, 9 384         block_12_project[0][0]           \n",
            "__________________________________________________________________________________________________\n",
            "block_12_add (Add)              (None, None, None, 9 0           block_11_add[0][0]               \n",
            "                                                                 block_12_project_BN[0][0]        \n",
            "__________________________________________________________________________________________________\n",
            "block_13_expand (Conv2D)        (None, None, None, 5 55296       block_12_add[0][0]               \n",
            "__________________________________________________________________________________________________\n",
            "block_13_expand_BN (BatchNormal (None, None, None, 5 2304        block_13_expand[0][0]            \n",
            "__________________________________________________________________________________________________\n",
            "block_13_expand_relu (ReLU)     (None, None, None, 5 0           block_13_expand_BN[0][0]         \n",
            "__________________________________________________________________________________________________\n",
            "block_13_pad (ZeroPadding2D)    (None, None, None, 5 0           block_13_expand_relu[0][0]       \n",
            "__________________________________________________________________________________________________\n",
            "block_13_depthwise (DepthwiseCo (None, None, None, 5 5184        block_13_pad[0][0]               \n",
            "__________________________________________________________________________________________________\n",
            "block_13_depthwise_BN (BatchNor (None, None, None, 5 2304        block_13_depthwise[0][0]         \n",
            "__________________________________________________________________________________________________\n",
            "block_13_depthwise_relu (ReLU)  (None, None, None, 5 0           block_13_depthwise_BN[0][0]      \n",
            "__________________________________________________________________________________________________\n",
            "block_13_project (Conv2D)       (None, None, None, 1 92160       block_13_depthwise_relu[0][0]    \n",
            "__________________________________________________________________________________________________\n",
            "block_13_project_BN (BatchNorma (None, None, None, 1 640         block_13_project[0][0]           \n",
            "__________________________________________________________________________________________________\n",
            "block_14_expand (Conv2D)        (None, None, None, 9 153600      block_13_project_BN[0][0]        \n",
            "__________________________________________________________________________________________________\n",
            "block_14_expand_BN (BatchNormal (None, None, None, 9 3840        block_14_expand[0][0]            \n",
            "__________________________________________________________________________________________________\n",
            "block_14_expand_relu (ReLU)     (None, None, None, 9 0           block_14_expand_BN[0][0]         \n",
            "__________________________________________________________________________________________________\n",
            "block_14_depthwise (DepthwiseCo (None, None, None, 9 8640        block_14_expand_relu[0][0]       \n",
            "__________________________________________________________________________________________________\n",
            "block_14_depthwise_BN (BatchNor (None, None, None, 9 3840        block_14_depthwise[0][0]         \n",
            "__________________________________________________________________________________________________\n",
            "block_14_depthwise_relu (ReLU)  (None, None, None, 9 0           block_14_depthwise_BN[0][0]      \n",
            "__________________________________________________________________________________________________\n",
            "block_14_project (Conv2D)       (None, None, None, 1 153600      block_14_depthwise_relu[0][0]    \n",
            "__________________________________________________________________________________________________\n",
            "block_14_project_BN (BatchNorma (None, None, None, 1 640         block_14_project[0][0]           \n",
            "__________________________________________________________________________________________________\n",
            "block_14_add (Add)              (None, None, None, 1 0           block_13_project_BN[0][0]        \n",
            "                                                                 block_14_project_BN[0][0]        \n",
            "__________________________________________________________________________________________________\n",
            "block_15_expand (Conv2D)        (None, None, None, 9 153600      block_14_add[0][0]               \n",
            "__________________________________________________________________________________________________\n",
            "block_15_expand_BN (BatchNormal (None, None, None, 9 3840        block_15_expand[0][0]            \n",
            "__________________________________________________________________________________________________\n",
            "block_15_expand_relu (ReLU)     (None, None, None, 9 0           block_15_expand_BN[0][0]         \n",
            "__________________________________________________________________________________________________\n",
            "block_15_depthwise (DepthwiseCo (None, None, None, 9 8640        block_15_expand_relu[0][0]       \n",
            "__________________________________________________________________________________________________\n",
            "block_15_depthwise_BN (BatchNor (None, None, None, 9 3840        block_15_depthwise[0][0]         \n",
            "__________________________________________________________________________________________________\n",
            "block_15_depthwise_relu (ReLU)  (None, None, None, 9 0           block_15_depthwise_BN[0][0]      \n",
            "__________________________________________________________________________________________________\n",
            "block_15_project (Conv2D)       (None, None, None, 1 153600      block_15_depthwise_relu[0][0]    \n",
            "__________________________________________________________________________________________________\n",
            "block_15_project_BN (BatchNorma (None, None, None, 1 640         block_15_project[0][0]           \n",
            "__________________________________________________________________________________________________\n",
            "block_15_add (Add)              (None, None, None, 1 0           block_14_add[0][0]               \n",
            "                                                                 block_15_project_BN[0][0]        \n",
            "__________________________________________________________________________________________________\n",
            "block_16_expand (Conv2D)        (None, None, None, 9 153600      block_15_add[0][0]               \n",
            "__________________________________________________________________________________________________\n",
            "block_16_expand_BN (BatchNormal (None, None, None, 9 3840        block_16_expand[0][0]            \n",
            "__________________________________________________________________________________________________\n",
            "block_16_expand_relu (ReLU)     (None, None, None, 9 0           block_16_expand_BN[0][0]         \n",
            "__________________________________________________________________________________________________\n",
            "block_16_depthwise (DepthwiseCo (None, None, None, 9 8640        block_16_expand_relu[0][0]       \n",
            "__________________________________________________________________________________________________\n",
            "block_16_depthwise_BN (BatchNor (None, None, None, 9 3840        block_16_depthwise[0][0]         \n",
            "__________________________________________________________________________________________________\n",
            "block_16_depthwise_relu (ReLU)  (None, None, None, 9 0           block_16_depthwise_BN[0][0]      \n",
            "__________________________________________________________________________________________________\n",
            "block_16_project (Conv2D)       (None, None, None, 3 307200      block_16_depthwise_relu[0][0]    \n",
            "__________________________________________________________________________________________________\n",
            "block_16_project_BN (BatchNorma (None, None, None, 3 1280        block_16_project[0][0]           \n",
            "__________________________________________________________________________________________________\n",
            "Conv_1 (Conv2D)                 (None, None, None, 1 409600      block_16_project_BN[0][0]        \n",
            "__________________________________________________________________________________________________\n",
            "Conv_1_bn (BatchNormalization)  (None, None, None, 1 5120        Conv_1[0][0]                     \n",
            "__________________________________________________________________________________________________\n",
            "out_relu (ReLU)                 (None, None, None, 1 0           Conv_1_bn[0][0]                  \n",
            "==================================================================================================\n",
            "Total params: 2,257,984\n",
            "Trainable params: 2,223,872\n",
            "Non-trainable params: 34,112\n",
            "__________________________________________________________________________________________________\n"
          ],
          "name": "stdout"
        }
      ]
    },
    {
      "cell_type": "markdown",
      "metadata": {
        "colab_type": "text",
        "id": "ngVtdWor2z62"
      },
      "source": [
        "With the pretrained model we can build our actual model that adds an output layer to the MobileNetV2."
      ]
    },
    {
      "cell_type": "code",
      "metadata": {
        "colab_type": "code",
        "id": "HQNsTLZI4GOW",
        "colab": {}
      },
      "source": [
        "\"\"\" Create a transfer learning model, that uses a pretrained model \"pretrained_model\" and appends a 2D global average pooling layer, a dropout layer (droprate 0.25) and a dense output layer with 102 neurons. \"\"\"\n",
        "\n",
        "class MyTransferModel(k.Model):\n",
        "    def __init__(self, pretrained_model):\n",
        "        super(MyTransferModel, self).__init__()\n",
        "        # Define layers and pretrained model\n",
        "        self.pretrained_model = pretrained_model\n",
        "        self.global_avg = k.layers.GlobalAveragePooling2D()\n",
        "        self.dropout = k.layers.Dropout(rate=0.25)\n",
        "        self.dense = k.layers.Dense(102, activation='softmax')\n",
        "\n",
        "    def call(self, inputs, training=False):\n",
        "        # Call pretrained model and layers appropriately to implement forward pass\n",
        "        output = self.pretrained_model(inputs)\n",
        "        output = self.global_avg(output)\n",
        "        output = self.dropout(output, training=training)\n",
        "        output = self.dense(output)\n",
        "        return output"
      ],
      "execution_count": 14,
      "outputs": []
    },
    {
      "cell_type": "markdown",
      "metadata": {
        "colab_type": "text",
        "id": "w5w6aV4S4nHu"
      },
      "source": [
        "Now we just need to instantiate our model for transfer learning and fine tune it. But instead of directly training all layers we will just train the last layer first. If you do not do this and directly train the complete model, the random initialization of the last layer can cause gradients with very big magnitude that will be propageted into the MobileNetV2 layers and cause them to \"forget\" what they have learned on ImageNet. This is undesireable since we want to transfer that knowledge over into our model in order to achieve better performance on the Caltech 101 data set."
      ]
    },
    {
      "cell_type": "code",
      "metadata": {
        "colab_type": "code",
        "id": "ayjQnTqz47CO",
        "colab": {
          "base_uri": "https://localhost:8080/",
          "height": 677
        },
        "outputId": "e10da21a-2d98-496f-b7df-486da853fa6c"
      },
      "source": [
        "\"\"\" Instantiate a MyTransferModel object and a RMSprop optimizer, compile them with a suitable loss and accuracy as a metric. Use \"base_model\" as the pretrained model. \"\"\"\n",
        "\n",
        "tf_batch_size = 32\n",
        "tf_epochs = 10\n",
        "tf_learning_rate = 0.001\n",
        "tf_mdl = MyTransferModel(base_model)\n",
        "tf_opt = tf.optimizers.RMSprop(tf_learning_rate)\n",
        "base_model.trainable = False\n",
        "tf_mdl.compile(loss=\"sparse_categorical_crossentropy\", optimizer=tf_opt, metrics=[\"accuracy\"])\n",
        "tf_mdl.build((tf_batch_size, 224, 224, 3))\n",
        "tf_mdl.summary()\n",
        "\n",
        "\"\"\" Create the data set generators and train the model for \"tf_epochs\" epochs. Hint: Use the class mode \"sparse\" and the appropriate subsets for creating the generators and \n",
        "steps_per_epoch=int((1.0-val_split)*N_samples_Caltech101/tf_batch_size) as well as a suitable number of validation_steps for the fit function. The data for the Caltech101 \n",
        "data set is located in the \"101_ObjectCategories\" directory. \"\"\"\n",
        "\n",
        "train_gen = datagen.flow_from_directory(directory='101_ObjectCategories', class_mode='sparse', subset='training')\n",
        "val_gen = datagen.flow_from_directory(directory='101_ObjectCategories', class_mode='sparse', subset='validation')\n",
        "tf_history_0 = tf_mdl.fit(train_gen, \n",
        "                          epochs=tf_epochs,\n",
        "                          validation_data = val_gen,\n",
        "                          batch_size=tf_batch_size,\n",
        "                          steps_per_epoch=int((1.0-val_split)*N_samples_Caltech101/tf_batch_size),\n",
        "                          validation_steps=int(val_split*N_samples_Caltech101/tf_batch_size))"
      ],
      "execution_count": 15,
      "outputs": [
        {
          "output_type": "stream",
          "text": [
            "Model: \"my_transfer_model\"\n",
            "_________________________________________________________________\n",
            "Layer (type)                 Output Shape              Param #   \n",
            "=================================================================\n",
            "mobilenetv2_1.00_224 (Model) (None, None, None, 1280)  2257984   \n",
            "_________________________________________________________________\n",
            "global_average_pooling2d (Gl multiple                  0         \n",
            "_________________________________________________________________\n",
            "dropout_1 (Dropout)          multiple                  0         \n",
            "_________________________________________________________________\n",
            "dense_9 (Dense)              multiple                  130662    \n",
            "=================================================================\n",
            "Total params: 2,388,646\n",
            "Trainable params: 130,662\n",
            "Non-trainable params: 2,257,984\n",
            "_________________________________________________________________\n",
            "Found 8278 images belonging to 102 classes.\n",
            "Found 866 images belonging to 102 classes.\n",
            "Epoch 1/10\n",
            "257/257 [==============================] - 158s 613ms/step - loss: 1.3924 - accuracy: 0.7009 - val_loss: 0.5047 - val_accuracy: 0.8718\n",
            "Epoch 2/10\n",
            "257/257 [==============================] - 156s 608ms/step - loss: 0.3771 - accuracy: 0.8976 - val_loss: 0.3951 - val_accuracy: 0.8891\n",
            "Epoch 3/10\n",
            "257/257 [==============================] - 157s 613ms/step - loss: 0.2810 - accuracy: 0.9195 - val_loss: 0.3557 - val_accuracy: 0.9030\n",
            "Epoch 4/10\n",
            "257/257 [==============================] - 157s 610ms/step - loss: 0.2251 - accuracy: 0.9282 - val_loss: 0.3010 - val_accuracy: 0.9099\n",
            "Epoch 5/10\n",
            "257/257 [==============================] - 157s 611ms/step - loss: 0.1975 - accuracy: 0.9390 - val_loss: 0.3031 - val_accuracy: 0.9169\n",
            "Epoch 6/10\n",
            "257/257 [==============================] - 156s 607ms/step - loss: 0.1837 - accuracy: 0.9429 - val_loss: 0.3275 - val_accuracy: 0.9145\n",
            "Epoch 7/10\n",
            "257/257 [==============================] - 156s 607ms/step - loss: 0.1650 - accuracy: 0.9497 - val_loss: 0.3553 - val_accuracy: 0.9065\n",
            "Epoch 8/10\n",
            "257/257 [==============================] - 156s 608ms/step - loss: 0.1572 - accuracy: 0.9517 - val_loss: 0.3506 - val_accuracy: 0.9122\n",
            "Epoch 9/10\n",
            "257/257 [==============================] - 156s 605ms/step - loss: 0.1430 - accuracy: 0.9575 - val_loss: 0.3554 - val_accuracy: 0.9030\n",
            "Epoch 10/10\n",
            "257/257 [==============================] - 156s 609ms/step - loss: 0.1376 - accuracy: 0.9576 - val_loss: 0.3447 - val_accuracy: 0.9226\n"
          ],
          "name": "stdout"
        }
      ]
    },
    {
      "cell_type": "markdown",
      "metadata": {
        "colab_type": "text",
        "id": "HbKiWk_T4zH1"
      },
      "source": [
        "Now that we have trained the outputlayer of our model on the Caltech 101 data set, we can make the last layers of the MobileNetV2 model trainable and continue to fine tune  it with a low learning rate. For this we need to recompile our model in order for the change of the MobileNetV2 parameters to trainable to have an effect."
      ]
    },
    {
      "cell_type": "code",
      "metadata": {
        "colab_type": "code",
        "id": "yNL1HtEp5R2W",
        "colab": {
          "base_uri": "https://localhost:8080/",
          "height": 642
        },
        "outputId": "3f138617-2356-45a2-f9a7-85fc798c6e82"
      },
      "source": [
        "\"\"\" Reinstantiate the RMSprop optimizer with the changed learning rate and set the base_model to be trainable. Then compile it with the newly instantiate optimizer, a suitable loss function and accuracy as a metric \n",
        "and continue training on the Caltech101 data set. Hint: Angain use steps_per_epoch=int((1.0-val_split)*N_samples_Caltech101/tf_batch_size) as well as a suitable number of validation_steps to train the model fo\n",
        "\"tf_epochs\" epochs on the data set. \"\"\"\n",
        "\n",
        "tf_learning_rate = 0.00001\n",
        "tf_opt = tf.optimizers.RMSprop(tf_learning_rate)\n",
        "base_model.trainable = True # Set base_model to be trainable\n",
        "tf_mdl.compile(optimizer=tf_opt, loss=\"sparse_categorical_crossentropy\", metrics=[\"accuracy\"])\n",
        "tf_mdl.build((tf_batch_size, 224, 224, 3))\n",
        "tf_mdl.summary()\n",
        "\n",
        "tf_history_1 = tf_mdl.fit(train_gen, \n",
        "                          epochs=tf_epochs,\n",
        "                          validation_data=val_gen,\n",
        "                          batch_size=tf_batch_size,\n",
        "                          steps_per_epoch=int((1.0-val_split)*N_samples_Caltech101/tf_batch_size),\n",
        "                          validation_steps=int(val_split*N_samples_Caltech101/tf_batch_size))"
      ],
      "execution_count": 16,
      "outputs": [
        {
          "output_type": "stream",
          "text": [
            "Model: \"my_transfer_model\"\n",
            "_________________________________________________________________\n",
            "Layer (type)                 Output Shape              Param #   \n",
            "=================================================================\n",
            "mobilenetv2_1.00_224 (Model) (None, None, None, 1280)  2257984   \n",
            "_________________________________________________________________\n",
            "global_average_pooling2d (Gl multiple                  0         \n",
            "_________________________________________________________________\n",
            "dropout_1 (Dropout)          multiple                  0         \n",
            "_________________________________________________________________\n",
            "dense_9 (Dense)              multiple                  130662    \n",
            "=================================================================\n",
            "Total params: 2,388,646\n",
            "Trainable params: 2,354,534\n",
            "Non-trainable params: 34,112\n",
            "_________________________________________________________________\n",
            "Epoch 1/10\n",
            "257/257 [==============================] - 192s 749ms/step - loss: 0.4784 - accuracy: 0.8719 - val_loss: 0.4610 - val_accuracy: 0.8938\n",
            "Epoch 2/10\n",
            "257/257 [==============================] - 191s 744ms/step - loss: 0.2266 - accuracy: 0.9321 - val_loss: 0.4346 - val_accuracy: 0.8926\n",
            "Epoch 3/10\n",
            "257/257 [==============================] - 191s 742ms/step - loss: 0.1736 - accuracy: 0.9473 - val_loss: 0.3858 - val_accuracy: 0.9018\n",
            "Epoch 4/10\n",
            "257/257 [==============================] - 190s 741ms/step - loss: 0.1570 - accuracy: 0.9486 - val_loss: 0.3198 - val_accuracy: 0.9180\n",
            "Epoch 5/10\n",
            "257/257 [==============================] - 189s 735ms/step - loss: 0.1330 - accuracy: 0.9592 - val_loss: 0.3045 - val_accuracy: 0.9249\n",
            "Epoch 6/10\n",
            "257/257 [==============================] - 191s 741ms/step - loss: 0.1127 - accuracy: 0.9627 - val_loss: 0.3103 - val_accuracy: 0.9111\n",
            "Epoch 7/10\n",
            "257/257 [==============================] - 189s 735ms/step - loss: 0.1031 - accuracy: 0.9664 - val_loss: 0.2943 - val_accuracy: 0.9203\n",
            "Epoch 8/10\n",
            "257/257 [==============================] - 189s 737ms/step - loss: 0.0866 - accuracy: 0.9726 - val_loss: 0.3005 - val_accuracy: 0.9169\n",
            "Epoch 9/10\n",
            "257/257 [==============================] - 191s 741ms/step - loss: 0.0782 - accuracy: 0.9737 - val_loss: 0.2621 - val_accuracy: 0.9330\n",
            "Epoch 10/10\n",
            "257/257 [==============================] - 191s 742ms/step - loss: 0.0771 - accuracy: 0.9765 - val_loss: 0.2694 - val_accuracy: 0.9400\n"
          ],
          "name": "stdout"
        }
      ]
    },
    {
      "cell_type": "markdown",
      "metadata": {
        "colab_type": "text",
        "id": "GNo2frodRH_i"
      },
      "source": [
        "As you can see from the increasing gap between training and validation loss and accuracy, overfitting is becoming a bigger problem now. This is due to the much higher number of trainable parameters if we not only train the output layer on the rather small Caltech 101 data set. But still we can improve the performance of our model. We can visualize this if we plot the accuracy over the training process."
      ]
    },
    {
      "cell_type": "code",
      "metadata": {
        "colab_type": "code",
        "id": "g2QHrVsvRv0C",
        "colab": {
          "base_uri": "https://localhost:8080/",
          "height": 279
        },
        "outputId": "4eb23ecc-142a-46ac-ea20-3b81b0896c85"
      },
      "source": [
        "plt.plot(tf_history_0.history[\"accuracy\"]+tf_history_1.history[\"accuracy\"])\n",
        "plt.plot(tf_history_0.history[\"val_accuracy\"]+tf_history_1.history[\"val_accuracy\"])\n",
        "plt.xticks(range(len(tf_history_0.history[\"accuracy\"]+tf_history_1.history[\"accuracy\"])))\n",
        "plt.axvline(9, color=\"green\")\n",
        "plt.xlabel(\"Epochs\")\n",
        "plt.ylabel(\"Accuracy\")\n",
        "plt.legend([\"Acc\", \"Val. Acc\", \"Start fine tuning\"])\n",
        "plt.show()"
      ],
      "execution_count": 17,
      "outputs": [
        {
          "output_type": "display_data",
          "data": {
            "image/png": "[encoded data removed]",
            "text/plain": [
              "<Figure size 432x288 with 1 Axes>"
            ]
          },
          "metadata": {
            "tags": [],
            "needs_background": "light"
          }
        }
      ]
    },
    {
      "cell_type": "markdown",
      "metadata": {
        "colab_type": "text",
        "id": "Z2Jhnwh5Y4IB"
      },
      "source": [
        "Overall the resulting performance of the model is quite close to published results on the Caltach 101, e.g. this [paper](https://arxiv.org/abs/1406.4729v1), while the definintion and training of the model only required very little code.\n",
        "\n",
        "In order to evaluate if transfer learning actually makes a difference, we can simply train the MobileNetV2 on the Caltech 101 data set. As we already discussed, training such a high capacity model on such a small data set leads to heavy overfitting."
      ]
    },
    {
      "cell_type": "code",
      "metadata": {
        "colab_type": "code",
        "id": "Ugaum5NNdxb1",
        "colab": {
          "base_uri": "https://localhost:8080/",
          "height": 469
        },
        "outputId": "ab17f8e6-f40d-4c81-d9e4-680ded0d4fdd"
      },
      "source": [
        "\"\"\" Instantiate a new base_model, now with randomly initialized weights, and instantiate a new MyTransferModel object. Compile it with a RMSprop optimizer, a suitable loss and accuracy as a metric.  \"\"\"\n",
        "\n",
        "tf_batch_size = 32\n",
        "tf_epochs = 5\n",
        "tf_learning_rate = 0.001\n",
        "base_model = tf.keras.applications.MobileNetV2(weights=None, include_top=False) # Instantiate a randomly initialized MobileNetV2 without it's top/output layer\n",
        "tf_mdl = MyTransferModel(base_model)\n",
        "tf_opt = tf.optimizers.RMSprop(tf_learning_rate)\n",
        "tf_mdl.compile(optimizer = tf_opt, loss=\"sparse_categorical_crossentropy\", metrics=[\"accuracy\"])\n",
        "tf_mdl.build((tf_batch_size, 224, 224, 3))\n",
        "tf_mdl.summary()\n",
        "\n",
        "\"\"\" Train this newly instantiated model on the Caltech101 data set. Hint: Again use steps_per_epoch=int((1.0-val_split)*N_samples_Caltech101/tf_batch_size) as well as a suitable number of validation_steps. \"\"\"\n",
        "\n",
        "tf_history_2 = tf_mdl.fit(train_gen, \n",
        "                          epochs=tf_epochs,\n",
        "                          validation_data=val_gen,\n",
        "                          batch_size=tf_batch_size,\n",
        "                          steps_per_epoch=int((1.0-val_split)*N_samples_Caltech101/tf_batch_size),\n",
        "                          validation_steps=int(val_split*N_samples_Caltech101/tf_batch_size))"
      ],
      "execution_count": 18,
      "outputs": [
        {
          "output_type": "stream",
          "text": [
            "Model: \"my_transfer_model_1\"\n",
            "_________________________________________________________________\n",
            "Layer (type)                 Output Shape              Param #   \n",
            "=================================================================\n",
            "mobilenetv2_1.00_None (Model (None, None, None, 1280)  2257984   \n",
            "_________________________________________________________________\n",
            "global_average_pooling2d_1 ( multiple                  0         \n",
            "_________________________________________________________________\n",
            "dropout_2 (Dropout)          multiple                  0         \n",
            "_________________________________________________________________\n",
            "dense_10 (Dense)             multiple                  130662    \n",
            "=================================================================\n",
            "Total params: 2,388,646\n",
            "Trainable params: 2,354,534\n",
            "Non-trainable params: 34,112\n",
            "_________________________________________________________________\n",
            "Epoch 1/5\n",
            "257/257 [==============================] - 190s 740ms/step - loss: 3.7053 - accuracy: 0.2412 - val_loss: 4.5708 - val_accuracy: 0.0081\n",
            "Epoch 2/5\n",
            "257/257 [==============================] - 189s 734ms/step - loss: 2.9790 - accuracy: 0.3493 - val_loss: 4.8950 - val_accuracy: 0.0531\n",
            "Epoch 3/5\n",
            "257/257 [==============================] - 188s 732ms/step - loss: 2.6070 - accuracy: 0.3931 - val_loss: 5.3741 - val_accuracy: 0.0531\n",
            "Epoch 4/5\n",
            "257/257 [==============================] - 190s 738ms/step - loss: 2.3078 - accuracy: 0.4492 - val_loss: 6.1378 - val_accuracy: 0.0531\n",
            "Epoch 5/5\n",
            "257/257 [==============================] - 190s 741ms/step - loss: 2.0676 - accuracy: 0.4887 - val_loss: 7.2034 - val_accuracy: 0.0531\n"
          ],
          "name": "stdout"
        }
      ]
    },
    {
      "cell_type": "markdown",
      "metadata": {
        "colab_type": "text",
        "id": "l7gvjWFvtlxr"
      },
      "source": [
        "As you can see, training MobileNetV2 from scratch does not only suffer from severe overfitting but is also rather slow when compared with fine tuning. So overall it is recommended to use pretrained models and transfer learning if you want to train a high capacity neural network on a small data set, as it is often the case in practical applications. By doing this you can benefit from not only the architecture search of many experts but also save time and computational resources since a part of your model has already be pretrained by someone else. But you should always keep in mind that transfer learning is only a suitable method if there is a realistic chance of a positive transfer, i.e. the data set and task the model was pretrained on has to have something in common with your data set and task. Otherwise transfer learning can not only slow down the convergence speed but also hurt the final performance of your model."
      ]
    },
    {
      "cell_type": "markdown",
      "metadata": {
        "colab_type": "text",
        "id": "3zzJJ51h2GP8"
      },
      "source": [
        "## Catastrophic Forgetting\n",
        "Despite many advances in better architectures and training algorithms for training, neural networks still suffer from a long known phenomenon called \"catastrophic forgetting\". In order to understand what this phenomenon is we can compare human learning with the way neural networks learn. Humans can quickly learn from few examples and most importantly, they can learn to solve tasks in a sequential way. This means one can learn a language, e.g. english, and after a certain period of time learn a second language, e.g. chinese, without having to repeatedly refresh everthing that was learned on the first language. Neural networks are currently not capable of learning on a sequence of different tasks. In order to demonstrate this, we will train a neural network first on MNIST and then on the FashionMNIST data set. We want to be able to uniquely identify any class from both data sets. Since both data sets contain $10$ classes and use the labels $\\lbrace0,\\ldots,9\\rbrace$ for them, we need to choose different labels for the FashionMNIST data set. We do this by loading the data set and shifting the labels by $10$ so that we get labels $\\lbrace10,\\ldots,19\\rbrace$."
      ]
    },
    {
      "cell_type": "code",
      "metadata": {
        "colab_type": "code",
        "id": "x0e8W8Wc3CS_",
        "colab": {
          "base_uri": "https://localhost:8080/",
          "height": 156
        },
        "outputId": "cffebca3-ffea-4ff2-d713-73154d832a4f"
      },
      "source": [
        "\"\"\" Shift the labels of the FashionMNIST data set to {10,...,19}. \"\"\"\n",
        "\n",
        "(x_train_fmnist, y_train_fmnist), (x_test_fmnist, y_test_fmnist) = tf.keras.datasets.fashion_mnist.load_data()\n",
        "shifter = lambda y: y + 10\n",
        "x_train_fmnist = np.expand_dims(x_train_fmnist, axis=-1).astype(np.float32)\n",
        "y_train_fmnist = np.array([shifter(y_tr) for y_tr in y_train_fmnist]) # Shift labels of training data\n",
        "x_test_fmnist = np.expand_dims(x_test_fmnist, axis=-1).astype(np.float32)\n",
        "y_test_fmnist = np.array([shifter(y_ts) for y_ts in y_test_fmnist]) # Shift labels of testing data"
      ],
      "execution_count": 19,
      "outputs": [
        {
          "output_type": "stream",
          "text": [
            "Downloading data from https://storage.googleapis.com/tensorflow/tf-keras-datasets/train-labels-idx1-ubyte.gz\n",
            "32768/29515 [=================================] - 0s 0us/step\n",
            "Downloading data from https://storage.googleapis.com/tensorflow/tf-keras-datasets/train-images-idx3-ubyte.gz\n",
            "26427392/26421880 [==============================] - 0s 0us/step\n",
            "Downloading data from https://storage.googleapis.com/tensorflow/tf-keras-datasets/t10k-labels-idx1-ubyte.gz\n",
            "8192/5148 [===============================================] - 0s 0us/step\n",
            "Downloading data from https://storage.googleapis.com/tensorflow/tf-keras-datasets/t10k-images-idx3-ubyte.gz\n",
            "4423680/4422102 [==============================] - 0s 0us/step\n"
          ],
          "name": "stdout"
        }
      ]
    },
    {
      "cell_type": "markdown",
      "metadata": {
        "colab_type": "text",
        "id": "Fz6e_B1vFj96"
      },
      "source": [
        "We also plot some examples of this data set and verify if the labels were shifted correctly."
      ]
    },
    {
      "cell_type": "code",
      "metadata": {
        "colab_type": "code",
        "id": "bZkh_WV-FqD_",
        "colab": {
          "base_uri": "https://localhost:8080/",
          "height": 300
        },
        "outputId": "f6d17f51-8b15-4172-8882-cfc6fd0cb4ab"
      },
      "source": [
        "plt_img = np.zeros((280, 280))\n",
        "for i in range(10):\n",
        "  for j in range(10):\n",
        "    plt_img[i*28:(i+1)*28, j*28:(j+1)*28] = np.squeeze(x_train_fmnist[i*10+j])\n",
        "plt.imshow(plt_img, cmap=\"gray\")\n",
        "plt.axis(\"off\")\n",
        "plt.show()\n",
        "\n",
        "print(\"Labels\")\n",
        "print(\"MNIST: \"+str(np.unique(y_test_mnist)))\n",
        "print(\"FashionMNIST: \"+str(np.unique(y_test_fmnist)))"
      ],
      "execution_count": 20,
      "outputs": [
        {
          "output_type": "display_data",
          "data": {
            "image/png": "[encoded data removed]",
            "text/plain": [
              "<Figure size 432x288 with 1 Axes>"
            ]
          },
          "metadata": {
            "tags": [],
            "needs_background": "light"
          }
        },
        {
          "output_type": "stream",
          "text": [
            "Labels\n",
            "MNIST: [0 1 2 3 4 5 6 7 8 9]\n",
            "FashionMNIST: [10 11 12 13 14 15 16 17 18 19]\n"
          ],
          "name": "stdout"
        }
      ]
    },
    {
      "cell_type": "markdown",
      "metadata": {
        "colab_type": "text",
        "id": "W6SBIqCcOdWe"
      },
      "source": [
        "Now the data is prepared we need to define a new model that can classify images into $20$ different classes. This is necessary since the models we used up to this point only have $10$ neurons in their output layers and therefore are only capable of classifying into $10$ different categories."
      ]
    },
    {
      "cell_type": "code",
      "metadata": {
        "colab_type": "code",
        "id": "8WC9fu-hOzVH",
        "colab": {}
      },
      "source": [
        "\"\"\" Implement a new model, which is capable of classifying 20 classes. Use two conv. layers with 8/16 filters of size 3x3 and a stride of 2, a dropout layer between the conv. and dense layers with a droprate of 0.25 \n",
        "three dense layers with 128/64/? neurons. Choose all activation functions appropriately.\"\"\"\n",
        "\n",
        "class MyExtendedModel(k.Model):\n",
        "    def __init__(self):\n",
        "        super(MyExtendedModel, self).__init__()\n",
        "        # Layer definition\n",
        "        self.conv0 = k.layers.Conv2D(8, 3, strides=2, activation='relu')\n",
        "        self.conv1 = k.layers.Conv2D(16, 3, strides=2, activation='relu')\n",
        "        self.flatten = k.layers.Flatten()\n",
        "        self.dropout = k.layers.Dropout(rate=0.25)\n",
        "        self.dense0 = k.layers.Dense(128, activation='relu')\n",
        "        self.dense1 = k.layers.Dense(64, activation='relu')\n",
        "        self.dense2 = k.layers.Dense(20, activation='softmax')\n",
        "\n",
        "    def call(self, inputs, training=False):\n",
        "        # Call layers in correct order to implement forward pass\n",
        "        output = self.conv0(inputs)\n",
        "        output = self.conv1(output)\n",
        "        output = self.flatten(output)\n",
        "        output = self.dropout(output, training=training)\n",
        "        output = self.dense0(output)\n",
        "        output = self.dense1(output)\n",
        "        output = self.dense2(output)\n",
        "        return output"
      ],
      "execution_count": 21,
      "outputs": []
    },
    {
      "cell_type": "markdown",
      "metadata": {
        "colab_type": "text",
        "id": "a9xyVgZrQNjg"
      },
      "source": [
        "With this model we are almost redy to start training on a sequence of tasks, i.e. we will first train on the MNIST data set in order to learn the classes $0$ up to $9$ and after that train on the FshionMNIST data set in order to learn the remaining classes from $10$ to $19$. During this process we want to evaluate the model separately on MNIST and FashionMNIST validation data. Since this is not a standard procedure, we need to implement a Callback class. Callbacks in Keras are used to implement actions that are executed at different points during the training process, e.g. at the beginning of the training, after a batch is processed or at the end of each epoch. See the [documentation](https://www.tensorflow.org/versions/r2.2/api_docs/python/tf/keras/callbacks) for an overview of all provided callbacks and the [guide](https://www.tensorflow.org/beta/guide/keras/custom_callback#an_overview_of_callback_methods) on writing custom callbacks. While there are predefined callbacks, e.g. for logging metrics into a tensorboard log file, there is unfortunately no callback that we could use to evaluate our model simultaneously on two different validation data sets. The only option we have is to implement our own callback."
      ]
    },
    {
      "cell_type": "code",
      "metadata": {
        "colab_type": "code",
        "id": "7bOiLxIRSCz5",
        "colab": {}
      },
      "source": [
        "\"\"\" Implement a custom callback that evaluates a model on two data sets at the end of an epoch and stores the results in a two separate lists. Hint: The Keras callback class always posses an assotiated model. You can \n",
        "use it via the \"self.model\" attribute of the class. Hint: Evaluating the model will return a tuple containing two elements, i.e. (loss, acc).  \"\"\"\n",
        "\n",
        "class MyCallback(tf.keras.callbacks.Callback):\n",
        "  # Get the two different data sets and create lists for storing results\n",
        "  def __init__(self, x_0, y_0, x_1, y_1, batch_size):\n",
        "    super(MyCallback, self).__init__()\n",
        "    self.x_0 = x_0\n",
        "    self.y_0 = y_0\n",
        "    self.x_1 = x_1\n",
        "    self.y_1 = y_1\n",
        "    self.loss_0 = list()\n",
        "    self.acc_0 = list()\n",
        "    self.loss_1 = list()\n",
        "    self.acc_1 = list()\n",
        "    self.batch_size = batch_size\n",
        "    \n",
        "  def on_epoch_end(self, epoch, logs=None):\n",
        "    # Evaluate the model on both data sets and store results\n",
        "    print(\"\\nStarting callback...\")\n",
        "    print(\"+----------------------+\")\n",
        "    print(\"| Data set 0           |\")\n",
        "    print(\"+----------------------+\")\n",
        "    metrics_0 = self.model.evaluate(self.x_0, self.y_0, batch_size=self.batch_size) #Evaluate the model on \"self.x_0\" and \"self.y_0\" with \"self.batch_size\"\n",
        "    self.loss_0.append(metrics_0[0]) # Append loss to the loss list \"self.loss_0\" and accuracy to the accuracy list \"self.acc_0\"\n",
        "    self.acc_0.append(metrics_0[1])\n",
        "    print(\"+----------------------+\")\n",
        "    print(\"| Data set 1           |\")\n",
        "    print(\"+----------------------+\")\n",
        "    metrics_1 = self.model.evaluate(self.x_1, self.y_1, batch_size=self.batch_size) #Evaluate the model on \"self.x_1\" and \"self.y_1\" with \"self.batch_size\"\n",
        "    self.loss_1.append(metrics_1[0]) # Append loss to the loss list \"self.loss_1\" and accuracy to the accuracy list \"self.acc_1\"\n",
        "    self.acc_1.append(metrics_1[1])\n",
        "    print(\"Callback completed...\")"
      ],
      "execution_count": 22,
      "outputs": []
    },
    {
      "cell_type": "markdown",
      "metadata": {
        "colab_type": "text",
        "id": "h3ZUw3WqWmSL"
      },
      "source": [
        "This callback will accept two data sets on its initialization that can be used during training to evaluate on. For this we override the on_epoch_end function to evaluate on both data sets, print the results and store them for later use. We now train our neural network first on MNIST in order to learn the classes $\\lbrace0,\\ldots,9\\rbrace$ and then on FashionMNIST in order to learn the classes $\\lbrace10,\\ldots,19\\rbrace$  while simultaneously evaluating the model on both, the MNIST and FashionMNIST test sets. If our neural network would be capable of learning continually, we would expect to see the loss on MNIST decrease as we train on it and remain low as we continue with the training on FashionMNIST. Similarly we would expect the accuracy to rise on MNIST as we train on it and remain stable even if we continue to train on FashionMNIST."
      ]
    },
    {
      "cell_type": "code",
      "metadata": {
        "colab_type": "code",
        "id": "n3tZfi6jVSec",
        "colab": {
          "base_uri": "https://localhost:8080/",
          "height": 1000
        },
        "outputId": "c85cc7e1-877f-4c09-fa95-ef52841e3485"
      },
      "source": [
        "\"\"\" Instantiate a MyExtendedModel object, a RMSprop optimizer with learning rate \"learning_rate\" and compile them with a suitable loss function and accuracy as a metric. Then instantiate a MyCallback object with the \n",
        "MNIST test data set \"x_test_mnist\", \"y_test_mnist\" and the FashionMNIST test data set \"x_test_fmnist\", \"y_fmnist\". Finally train the model first on the MNIST training data set and then on the FashionMNIST data set. \n",
        "Hint: Use the MyCallback object \"my_cb\" during the training in order to record the accuracies on both data sets during training. \"\"\"\n",
        "\n",
        "extended_mdl = MyExtendedModel()\n",
        "extended_opt = tf.optimizers.RMSprop(learning_rate)\n",
        "extended_mdl.compile(optimizer = extended_opt, loss=\"sparse_categorical_crossentropy\", metrics=[\"accuracy\"])\n",
        "\n",
        "my_cb = MyCallback(x_test_mnist, y_test_mnist, x_test_fmnist, y_test_fmnist, batch_size)\n",
        "\n",
        "extended_mdl.fit(x_train_mnist, y_train_mnist, batch_size, epochs, callbacks=my_cb) # Train on MNIST\n",
        "extended_mdl.fit(x_train_fmnist, y_train_fmnist, batch_size, epochs, callbacks=my_cb) # Train on FashionMNIST"
      ],
      "execution_count": 23,
      "outputs": [
        {
          "output_type": "stream",
          "text": [
            "Epoch 1/20\n",
            "469/469 [==============================] - ETA: 0s - loss: 1.0768 - accuracy: 0.8396\n",
            "Starting callback...\n",
            "+----------------------+\n",
            "| Data set 0           |\n",
            "+----------------------+\n",
            "79/79 [==============================] - 0s 3ms/step - loss: 0.1287 - accuracy: 0.9594\n",
            "+----------------------+\n",
            "| Data set 1           |\n",
            "+----------------------+\n",
            "79/79 [==============================] - 0s 4ms/step - loss: 17.6778 - accuracy: 0.0000e+00\n",
            "Callback completed...\n",
            "469/469 [==============================] - 3s 7ms/step - loss: 1.0768 - accuracy: 0.8396\n",
            "Epoch 2/20\n",
            "466/469 [============================>.] - ETA: 0s - loss: 0.1525 - accuracy: 0.9550\n",
            "Starting callback...\n",
            "+----------------------+\n",
            "| Data set 0           |\n",
            "+----------------------+\n",
            "79/79 [==============================] - 0s 3ms/step - loss: 0.0828 - accuracy: 0.9734\n",
            "+----------------------+\n",
            "| Data set 1           |\n",
            "+----------------------+\n",
            "79/79 [==============================] - 0s 3ms/step - loss: 23.9356 - accuracy: 0.0000e+00\n",
            "Callback completed...\n",
            "469/469 [==============================] - 3s 6ms/step - loss: 0.1523 - accuracy: 0.9550\n",
            "Epoch 3/20\n",
            "469/469 [==============================] - ETA: 0s - loss: 0.1089 - accuracy: 0.9679\n",
            "Starting callback...\n",
            "+----------------------+\n",
            "| Data set 0           |\n",
            "+----------------------+\n",
            "79/79 [==============================] - 0s 3ms/step - loss: 0.0638 - accuracy: 0.9806\n",
            "+----------------------+\n",
            "| Data set 1           |\n",
            "+----------------------+\n",
            "79/79 [==============================] - 0s 3ms/step - loss: 20.8976 - accuracy: 0.0000e+00\n",
            "Callback completed...\n",
            "469/469 [==============================] - 3s 6ms/step - loss: 0.1089 - accuracy: 0.9679\n",
            "Epoch 4/20\n",
            "461/469 [============================>.] - ETA: 0s - loss: 0.0878 - accuracy: 0.9736\n",
            "Starting callback...\n",
            "+----------------------+\n",
            "| Data set 0           |\n",
            "+----------------------+\n",
            "79/79 [==============================] - 0s 3ms/step - loss: 0.0553 - accuracy: 0.9831\n",
            "+----------------------+\n",
            "| Data set 1           |\n",
            "+----------------------+\n",
            "79/79 [==============================] - 0s 4ms/step - loss: 22.6510 - accuracy: 0.0000e+00\n",
            "Callback completed...\n",
            "469/469 [==============================] - 3s 6ms/step - loss: 0.0878 - accuracy: 0.9736\n",
            "Epoch 5/20\n",
            "463/469 [============================>.] - ETA: 0s - loss: 0.0761 - accuracy: 0.9767\n",
            "Starting callback...\n",
            "+----------------------+\n",
            "| Data set 0           |\n",
            "+----------------------+\n",
            "79/79 [==============================] - 0s 3ms/step - loss: 0.0541 - accuracy: 0.9832\n",
            "+----------------------+\n",
            "| Data set 1           |\n",
            "+----------------------+\n",
            "79/79 [==============================] - 0s 3ms/step - loss: 22.1632 - accuracy: 0.0000e+00\n",
            "Callback completed...\n",
            "469/469 [==============================] - 3s 6ms/step - loss: 0.0762 - accuracy: 0.9766\n",
            "Epoch 6/20\n",
            "464/469 [============================>.] - ETA: 0s - loss: 0.0680 - accuracy: 0.9798\n",
            "Starting callback...\n",
            "+----------------------+\n",
            "| Data set 0           |\n",
            "+----------------------+\n",
            "79/79 [==============================] - 0s 3ms/step - loss: 0.0454 - accuracy: 0.9855\n",
            "+----------------------+\n",
            "| Data set 1           |\n",
            "+----------------------+\n",
            "79/79 [==============================] - 0s 3ms/step - loss: 23.0601 - accuracy: 0.0000e+00\n",
            "Callback completed...\n",
            "469/469 [==============================] - 3s 6ms/step - loss: 0.0677 - accuracy: 0.9799\n",
            "Epoch 7/20\n",
            "469/469 [==============================] - ETA: 0s - loss: 0.0622 - accuracy: 0.9805\n",
            "Starting callback...\n",
            "+----------------------+\n",
            "| Data set 0           |\n",
            "+----------------------+\n",
            "79/79 [==============================] - 0s 3ms/step - loss: 0.0450 - accuracy: 0.9852\n",
            "+----------------------+\n",
            "| Data set 1           |\n",
            "+----------------------+\n",
            "79/79 [==============================] - 0s 3ms/step - loss: 25.6183 - accuracy: 0.0000e+00\n",
            "Callback completed...\n",
            "469/469 [==============================] - 3s 6ms/step - loss: 0.0622 - accuracy: 0.9805\n",
            "Epoch 8/20\n",
            "462/469 [============================>.] - ETA: 0s - loss: 0.0583 - accuracy: 0.9826\n",
            "Starting callback...\n",
            "+----------------------+\n",
            "| Data set 0           |\n",
            "+----------------------+\n",
            "79/79 [==============================] - 0s 3ms/step - loss: 0.0389 - accuracy: 0.9871\n",
            "+----------------------+\n",
            "| Data set 1           |\n",
            "+----------------------+\n",
            "79/79 [==============================] - 0s 3ms/step - loss: 27.1563 - accuracy: 0.0000e+00\n",
            "Callback completed...\n",
            "469/469 [==============================] - 3s 6ms/step - loss: 0.0581 - accuracy: 0.9826\n",
            "Epoch 9/20\n",
            "461/469 [============================>.] - ETA: 0s - loss: 0.0546 - accuracy: 0.9833\n",
            "Starting callback...\n",
            "+----------------------+\n",
            "| Data set 0           |\n",
            "+----------------------+\n",
            "79/79 [==============================] - 0s 3ms/step - loss: 0.0527 - accuracy: 0.9848\n",
            "+----------------------+\n",
            "| Data set 1           |\n",
            "+----------------------+\n",
            "79/79 [==============================] - 0s 3ms/step - loss: 26.2274 - accuracy: 0.0000e+00\n",
            "Callback completed...\n",
            "469/469 [==============================] - 3s 6ms/step - loss: 0.0546 - accuracy: 0.9833\n",
            "Epoch 10/20\n",
            "469/469 [==============================] - ETA: 0s - loss: 0.0503 - accuracy: 0.9841\n",
            "Starting callback...\n",
            "+----------------------+\n",
            "| Data set 0           |\n",
            "+----------------------+\n",
            "79/79 [==============================] - 0s 3ms/step - loss: 0.0441 - accuracy: 0.9867\n",
            "+----------------------+\n",
            "| Data set 1           |\n",
            "+----------------------+\n",
            "79/79 [==============================] - 0s 3ms/step - loss: 27.4656 - accuracy: 0.0000e+00\n",
            "Callback completed...\n",
            "469/469 [==============================] - 3s 6ms/step - loss: 0.0503 - accuracy: 0.9841\n",
            "Epoch 11/20\n",
            "468/469 [============================>.] - ETA: 0s - loss: 0.0502 - accuracy: 0.9849\n",
            "Starting callback...\n",
            "+----------------------+\n",
            "| Data set 0           |\n",
            "+----------------------+\n",
            "79/79 [==============================] - 0s 3ms/step - loss: 0.0607 - accuracy: 0.9839\n",
            "+----------------------+\n",
            "| Data set 1           |\n",
            "+----------------------+\n",
            "79/79 [==============================] - 0s 3ms/step - loss: 33.2135 - accuracy: 0.0000e+00\n",
            "Callback completed...\n",
            "469/469 [==============================] - 3s 6ms/step - loss: 0.0503 - accuracy: 0.9848\n",
            "Epoch 12/20\n",
            "464/469 [============================>.] - ETA: 0s - loss: 0.0449 - accuracy: 0.9858\n",
            "Starting callback...\n",
            "+----------------------+\n",
            "| Data set 0           |\n",
            "+----------------------+\n",
            "79/79 [==============================] - 0s 3ms/step - loss: 0.0500 - accuracy: 0.9867\n",
            "+----------------------+\n",
            "| Data set 1           |\n",
            "+----------------------+\n",
            "79/79 [==============================] - 0s 3ms/step - loss: 30.6331 - accuracy: 0.0000e+00\n",
            "Callback completed...\n",
            "469/469 [==============================] - 3s 6ms/step - loss: 0.0450 - accuracy: 0.9858\n",
            "Epoch 13/20\n",
            "462/469 [============================>.] - ETA: 0s - loss: 0.0441 - accuracy: 0.9860\n",
            "Starting callback...\n",
            "+----------------------+\n",
            "| Data set 0           |\n",
            "+----------------------+\n",
            "79/79 [==============================] - 0s 3ms/step - loss: 0.0519 - accuracy: 0.9866\n",
            "+----------------------+\n",
            "| Data set 1           |\n",
            "+----------------------+\n",
            "79/79 [==============================] - 0s 3ms/step - loss: 34.6887 - accuracy: 0.0000e+00\n",
            "Callback completed...\n",
            "469/469 [==============================] - 3s 6ms/step - loss: 0.0438 - accuracy: 0.9860\n",
            "Epoch 14/20\n",
            "468/469 [============================>.] - ETA: 0s - loss: 0.0434 - accuracy: 0.9868\n",
            "Starting callback...\n",
            "+----------------------+\n",
            "| Data set 0           |\n",
            "+----------------------+\n",
            "79/79 [==============================] - 0s 3ms/step - loss: 0.0458 - accuracy: 0.9878\n",
            "+----------------------+\n",
            "| Data set 1           |\n",
            "+----------------------+\n",
            "79/79 [==============================] - 0s 3ms/step - loss: 33.7408 - accuracy: 0.0000e+00\n",
            "Callback completed...\n",
            "469/469 [==============================] - 3s 6ms/step - loss: 0.0434 - accuracy: 0.9868\n",
            "Epoch 15/20\n",
            "465/469 [============================>.] - ETA: 0s - loss: 0.0396 - accuracy: 0.9878\n",
            "Starting callback...\n",
            "+----------------------+\n",
            "| Data set 0           |\n",
            "+----------------------+\n",
            "79/79 [==============================] - 0s 3ms/step - loss: 0.0447 - accuracy: 0.9868\n",
            "+----------------------+\n",
            "| Data set 1           |\n",
            "+----------------------+\n",
            "79/79 [==============================] - 0s 3ms/step - loss: 33.2197 - accuracy: 1.0000e-04\n",
            "Callback completed...\n",
            "469/469 [==============================] - 3s 6ms/step - loss: 0.0397 - accuracy: 0.9877\n",
            "Epoch 16/20\n",
            "467/469 [============================>.] - ETA: 0s - loss: 0.0414 - accuracy: 0.9882\n",
            "Starting callback...\n",
            "+----------------------+\n",
            "| Data set 0           |\n",
            "+----------------------+\n",
            "79/79 [==============================] - 0s 3ms/step - loss: 0.0498 - accuracy: 0.9858\n",
            "+----------------------+\n",
            "| Data set 1           |\n",
            "+----------------------+\n",
            "79/79 [==============================] - 0s 3ms/step - loss: 30.6722 - accuracy: 2.0000e-04\n",
            "Callback completed...\n",
            "469/469 [==============================] - 3s 6ms/step - loss: 0.0417 - accuracy: 0.9881\n",
            "Epoch 17/20\n",
            "463/469 [============================>.] - ETA: 0s - loss: 0.0415 - accuracy: 0.9875\n",
            "Starting callback...\n",
            "+----------------------+\n",
            "| Data set 0           |\n",
            "+----------------------+\n",
            "79/79 [==============================] - 0s 3ms/step - loss: 0.0468 - accuracy: 0.9871\n",
            "+----------------------+\n",
            "| Data set 1           |\n",
            "+----------------------+\n",
            "79/79 [==============================] - 0s 3ms/step - loss: 28.9488 - accuracy: 0.0010\n",
            "Callback completed...\n",
            "469/469 [==============================] - 3s 6ms/step - loss: 0.0415 - accuracy: 0.9875\n",
            "Epoch 18/20\n",
            "465/469 [============================>.] - ETA: 0s - loss: 0.0382 - accuracy: 0.9883\n",
            "Starting callback...\n",
            "+----------------------+\n",
            "| Data set 0           |\n",
            "+----------------------+\n",
            "79/79 [==============================] - 0s 3ms/step - loss: 0.0634 - accuracy: 0.9859\n",
            "+----------------------+\n",
            "| Data set 1           |\n",
            "+----------------------+\n",
            "79/79 [==============================] - 0s 3ms/step - loss: 29.2817 - accuracy: 0.0019\n",
            "Callback completed...\n",
            "469/469 [==============================] - 3s 6ms/step - loss: 0.0381 - accuracy: 0.9883\n",
            "Epoch 19/20\n",
            "461/469 [============================>.] - ETA: 0s - loss: 0.0386 - accuracy: 0.9885\n",
            "Starting callback...\n",
            "+----------------------+\n",
            "| Data set 0           |\n",
            "+----------------------+\n",
            "79/79 [==============================] - 0s 3ms/step - loss: 0.0575 - accuracy: 0.9853\n",
            "+----------------------+\n",
            "| Data set 1           |\n",
            "+----------------------+\n",
            "79/79 [==============================] - 0s 3ms/step - loss: 28.4603 - accuracy: 0.0029\n",
            "Callback completed...\n",
            "469/469 [==============================] - 3s 6ms/step - loss: 0.0384 - accuracy: 0.9884\n",
            "Epoch 20/20\n",
            "469/469 [==============================] - ETA: 0s - loss: 0.0388 - accuracy: 0.9882\n",
            "Starting callback...\n",
            "+----------------------+\n",
            "| Data set 0           |\n",
            "+----------------------+\n",
            "79/79 [==============================] - 0s 3ms/step - loss: 0.0610 - accuracy: 0.9840\n",
            "+----------------------+\n",
            "| Data set 1           |\n",
            "+----------------------+\n",
            "79/79 [==============================] - 0s 3ms/step - loss: 31.2798 - accuracy: 0.0061\n",
            "Callback completed...\n",
            "469/469 [==============================] - 3s 6ms/step - loss: 0.0388 - accuracy: 0.9882\n",
            "Epoch 1/20\n",
            "462/469 [============================>.] - ETA: 0s - loss: 0.7671 - accuracy: 0.7703\n",
            "Starting callback...\n",
            "+----------------------+\n",
            "| Data set 0           |\n",
            "+----------------------+\n",
            "79/79 [==============================] - 0s 3ms/step - loss: 28.0121 - accuracy: 0.0304\n",
            "+----------------------+\n",
            "| Data set 1           |\n",
            "+----------------------+\n",
            "79/79 [==============================] - 0s 3ms/step - loss: 0.4829 - accuracy: 0.8202\n",
            "Callback completed...\n",
            "469/469 [==============================] - 3s 6ms/step - loss: 0.7629 - accuracy: 0.7711\n",
            "Epoch 2/20\n",
            "465/469 [============================>.] - ETA: 0s - loss: 0.4263 - accuracy: 0.8479\n",
            "Starting callback...\n",
            "+----------------------+\n",
            "| Data set 0           |\n",
            "+----------------------+\n",
            "79/79 [==============================] - 0s 3ms/step - loss: 37.0541 - accuracy: 0.0148\n",
            "+----------------------+\n",
            "| Data set 1           |\n",
            "+----------------------+\n",
            "79/79 [==============================] - 0s 3ms/step - loss: 0.3877 - accuracy: 0.8589\n",
            "Callback completed...\n",
            "469/469 [==============================] - 3s 6ms/step - loss: 0.4261 - accuracy: 0.8479\n",
            "Epoch 3/20\n",
            "464/469 [============================>.] - ETA: 0s - loss: 0.3841 - accuracy: 0.8612\n",
            "Starting callback...\n",
            "+----------------------+\n",
            "| Data set 0           |\n",
            "+----------------------+\n",
            "79/79 [==============================] - 0s 3ms/step - loss: 62.4629 - accuracy: 6.0000e-04\n",
            "+----------------------+\n",
            "| Data set 1           |\n",
            "+----------------------+\n",
            "79/79 [==============================] - 0s 3ms/step - loss: 0.3602 - accuracy: 0.8655\n",
            "Callback completed...\n",
            "469/469 [==============================] - 3s 6ms/step - loss: 0.3838 - accuracy: 0.8611\n",
            "Epoch 4/20\n",
            "468/469 [============================>.] - ETA: 0s - loss: 0.3560 - accuracy: 0.8683\n",
            "Starting callback...\n",
            "+----------------------+\n",
            "| Data set 0           |\n",
            "+----------------------+\n",
            "79/79 [==============================] - 0s 3ms/step - loss: 92.8028 - accuracy: 0.0000e+00\n",
            "+----------------------+\n",
            "| Data set 1           |\n",
            "+----------------------+\n",
            "79/79 [==============================] - 0s 3ms/step - loss: 0.3983 - accuracy: 0.8597\n",
            "Callback completed...\n",
            "469/469 [==============================] - 3s 6ms/step - loss: 0.3558 - accuracy: 0.8683\n",
            "Epoch 5/20\n",
            "466/469 [============================>.] - ETA: 0s - loss: 0.3409 - accuracy: 0.8739\n",
            "Starting callback...\n",
            "+----------------------+\n",
            "| Data set 0           |\n",
            "+----------------------+\n",
            "79/79 [==============================] - 0s 3ms/step - loss: 98.7206 - accuracy: 0.0000e+00\n",
            "+----------------------+\n",
            "| Data set 1           |\n",
            "+----------------------+\n",
            "79/79 [==============================] - 0s 3ms/step - loss: 0.3521 - accuracy: 0.8709\n",
            "Callback completed...\n",
            "469/469 [==============================] - 3s 6ms/step - loss: 0.3410 - accuracy: 0.8740\n",
            "Epoch 6/20\n",
            "465/469 [============================>.] - ETA: 0s - loss: 0.3272 - accuracy: 0.8799\n",
            "Starting callback...\n",
            "+----------------------+\n",
            "| Data set 0           |\n",
            "+----------------------+\n",
            "79/79 [==============================] - 0s 3ms/step - loss: 75.2431 - accuracy: 0.0000e+00\n",
            "+----------------------+\n",
            "| Data set 1           |\n",
            "+----------------------+\n",
            "79/79 [==============================] - 0s 3ms/step - loss: 0.3432 - accuracy: 0.8766\n",
            "Callback completed...\n",
            "469/469 [==============================] - 3s 6ms/step - loss: 0.3270 - accuracy: 0.8799\n",
            "Epoch 7/20\n",
            "464/469 [============================>.] - ETA: 0s - loss: 0.3140 - accuracy: 0.8838\n",
            "Starting callback...\n",
            "+----------------------+\n",
            "| Data set 0           |\n",
            "+----------------------+\n",
            "79/79 [==============================] - 0s 3ms/step - loss: 69.4473 - accuracy: 0.0000e+00\n",
            "+----------------------+\n",
            "| Data set 1           |\n",
            "+----------------------+\n",
            "79/79 [==============================] - 0s 3ms/step - loss: 0.3429 - accuracy: 0.8771\n",
            "Callback completed...\n",
            "469/469 [==============================] - 3s 6ms/step - loss: 0.3151 - accuracy: 0.8835\n",
            "Epoch 8/20\n",
            "463/469 [============================>.] - ETA: 0s - loss: 0.3055 - accuracy: 0.8872\n",
            "Starting callback...\n",
            "+----------------------+\n",
            "| Data set 0           |\n",
            "+----------------------+\n",
            "79/79 [==============================] - 0s 3ms/step - loss: 91.2517 - accuracy: 0.0000e+00\n",
            "+----------------------+\n",
            "| Data set 1           |\n",
            "+----------------------+\n",
            "79/79 [==============================] - 0s 3ms/step - loss: 0.3251 - accuracy: 0.8801\n",
            "Callback completed...\n",
            "469/469 [==============================] - 3s 6ms/step - loss: 0.3065 - accuracy: 0.8867\n",
            "Epoch 9/20\n",
            "469/469 [==============================] - ETA: 0s - loss: 0.3008 - accuracy: 0.8887\n",
            "Starting callback...\n",
            "+----------------------+\n",
            "| Data set 0           |\n",
            "+----------------------+\n",
            "79/79 [==============================] - 0s 3ms/step - loss: 97.2303 - accuracy: 0.0000e+00\n",
            "+----------------------+\n",
            "| Data set 1           |\n",
            "+----------------------+\n",
            "79/79 [==============================] - 0s 3ms/step - loss: 0.3138 - accuracy: 0.8851\n",
            "Callback completed...\n",
            "469/469 [==============================] - 3s 6ms/step - loss: 0.3008 - accuracy: 0.8887\n",
            "Epoch 10/20\n",
            "460/469 [============================>.] - ETA: 0s - loss: 0.2915 - accuracy: 0.8906\n",
            "Starting callback...\n",
            "+----------------------+\n",
            "| Data set 0           |\n",
            "+----------------------+\n",
            "79/79 [==============================] - 0s 3ms/step - loss: 110.5488 - accuracy: 0.0000e+00\n",
            "+----------------------+\n",
            "| Data set 1           |\n",
            "+----------------------+\n",
            "79/79 [==============================] - 0s 3ms/step - loss: 0.3302 - accuracy: 0.8783\n",
            "Callback completed...\n",
            "469/469 [==============================] - 3s 6ms/step - loss: 0.2917 - accuracy: 0.8907\n",
            "Epoch 11/20\n",
            "462/469 [============================>.] - ETA: 0s - loss: 0.2889 - accuracy: 0.8919\n",
            "Starting callback...\n",
            "+----------------------+\n",
            "| Data set 0           |\n",
            "+----------------------+\n",
            "79/79 [==============================] - 0s 3ms/step - loss: 106.4607 - accuracy: 0.0000e+00\n",
            "+----------------------+\n",
            "| Data set 1           |\n",
            "+----------------------+\n",
            "79/79 [==============================] - 0s 3ms/step - loss: 0.3139 - accuracy: 0.8868\n",
            "Callback completed...\n",
            "469/469 [==============================] - 3s 6ms/step - loss: 0.2884 - accuracy: 0.8921\n",
            "Epoch 12/20\n",
            "462/469 [============================>.] - ETA: 0s - loss: 0.2824 - accuracy: 0.8953\n",
            "Starting callback...\n",
            "+----------------------+\n",
            "| Data set 0           |\n",
            "+----------------------+\n",
            "79/79 [==============================] - 0s 3ms/step - loss: 127.2524 - accuracy: 0.0000e+00\n",
            "+----------------------+\n",
            "| Data set 1           |\n",
            "+----------------------+\n",
            "79/79 [==============================] - 0s 3ms/step - loss: 0.3204 - accuracy: 0.8867\n",
            "Callback completed...\n",
            "469/469 [==============================] - 3s 6ms/step - loss: 0.2824 - accuracy: 0.8953\n",
            "Epoch 13/20\n",
            "462/469 [============================>.] - ETA: 0s - loss: 0.2759 - accuracy: 0.8963\n",
            "Starting callback...\n",
            "+----------------------+\n",
            "| Data set 0           |\n",
            "+----------------------+\n",
            "79/79 [==============================] - 0s 3ms/step - loss: 107.9174 - accuracy: 0.0000e+00\n",
            "+----------------------+\n",
            "| Data set 1           |\n",
            "+----------------------+\n",
            "79/79 [==============================] - 0s 3ms/step - loss: 0.3122 - accuracy: 0.8876\n",
            "Callback completed...\n",
            "469/469 [==============================] - 3s 6ms/step - loss: 0.2763 - accuracy: 0.8963\n",
            "Epoch 14/20\n",
            "461/469 [============================>.] - ETA: 0s - loss: 0.2734 - accuracy: 0.8983\n",
            "Starting callback...\n",
            "+----------------------+\n",
            "| Data set 0           |\n",
            "+----------------------+\n",
            "79/79 [==============================] - 0s 3ms/step - loss: 106.0594 - accuracy: 0.0000e+00\n",
            "+----------------------+\n",
            "| Data set 1           |\n",
            "+----------------------+\n",
            "79/79 [==============================] - 0s 3ms/step - loss: 0.3063 - accuracy: 0.8884\n",
            "Callback completed...\n",
            "469/469 [==============================] - 3s 6ms/step - loss: 0.2739 - accuracy: 0.8980\n",
            "Epoch 15/20\n",
            "468/469 [============================>.] - ETA: 0s - loss: 0.2721 - accuracy: 0.8981\n",
            "Starting callback...\n",
            "+----------------------+\n",
            "| Data set 0           |\n",
            "+----------------------+\n",
            "79/79 [==============================] - 0s 3ms/step - loss: 122.3160 - accuracy: 0.0000e+00\n",
            "+----------------------+\n",
            "| Data set 1           |\n",
            "+----------------------+\n",
            "79/79 [==============================] - 0s 4ms/step - loss: 0.3434 - accuracy: 0.8806\n",
            "Callback completed...\n",
            "469/469 [==============================] - 3s 7ms/step - loss: 0.2721 - accuracy: 0.8981\n",
            "Epoch 16/20\n",
            "469/469 [==============================] - ETA: 0s - loss: 0.2665 - accuracy: 0.9020\n",
            "Starting callback...\n",
            "+----------------------+\n",
            "| Data set 0           |\n",
            "+----------------------+\n",
            "79/79 [==============================] - 0s 4ms/step - loss: 145.3209 - accuracy: 0.0000e+00\n",
            "+----------------------+\n",
            "| Data set 1           |\n",
            "+----------------------+\n",
            "79/79 [==============================] - 0s 4ms/step - loss: 0.3087 - accuracy: 0.8878\n",
            "Callback completed...\n",
            "469/469 [==============================] - 3s 7ms/step - loss: 0.2665 - accuracy: 0.9020\n",
            "Epoch 17/20\n",
            "465/469 [============================>.] - ETA: 0s - loss: 0.2631 - accuracy: 0.9023\n",
            "Starting callback...\n",
            "+----------------------+\n",
            "| Data set 0           |\n",
            "+----------------------+\n",
            "79/79 [==============================] - 0s 3ms/step - loss: 124.0315 - accuracy: 0.0000e+00\n",
            "+----------------------+\n",
            "| Data set 1           |\n",
            "+----------------------+\n",
            "79/79 [==============================] - 0s 4ms/step - loss: 0.3109 - accuracy: 0.8905\n",
            "Callback completed...\n",
            "469/469 [==============================] - 3s 7ms/step - loss: 0.2630 - accuracy: 0.9024\n",
            "Epoch 18/20\n",
            "464/469 [============================>.] - ETA: 0s - loss: 0.2593 - accuracy: 0.9037\n",
            "Starting callback...\n",
            "+----------------------+\n",
            "| Data set 0           |\n",
            "+----------------------+\n",
            "79/79 [==============================] - 0s 3ms/step - loss: 125.4575 - accuracy: 0.0000e+00\n",
            "+----------------------+\n",
            "| Data set 1           |\n",
            "+----------------------+\n",
            "79/79 [==============================] - 0s 3ms/step - loss: 0.3127 - accuracy: 0.8893\n",
            "Callback completed...\n",
            "469/469 [==============================] - 3s 7ms/step - loss: 0.2598 - accuracy: 0.9034\n",
            "Epoch 19/20\n",
            "463/469 [============================>.] - ETA: 0s - loss: 0.2576 - accuracy: 0.9034\n",
            "Starting callback...\n",
            "+----------------------+\n",
            "| Data set 0           |\n",
            "+----------------------+\n",
            "79/79 [==============================] - 0s 3ms/step - loss: 164.3474 - accuracy: 0.0000e+00\n",
            "+----------------------+\n",
            "| Data set 1           |\n",
            "+----------------------+\n",
            "79/79 [==============================] - 0s 3ms/step - loss: 0.3295 - accuracy: 0.8859\n",
            "Callback completed...\n",
            "469/469 [==============================] - 3s 6ms/step - loss: 0.2577 - accuracy: 0.9034\n",
            "Epoch 20/20\n",
            "461/469 [============================>.] - ETA: 0s - loss: 0.2527 - accuracy: 0.9073\n",
            "Starting callback...\n",
            "+----------------------+\n",
            "| Data set 0           |\n",
            "+----------------------+\n",
            "79/79 [==============================] - 0s 3ms/step - loss: 158.3255 - accuracy: 0.0000e+00\n",
            "+----------------------+\n",
            "| Data set 1           |\n",
            "+----------------------+\n",
            "79/79 [==============================] - 0s 3ms/step - loss: 0.3209 - accuracy: 0.8907\n",
            "Callback completed...\n",
            "469/469 [==============================] - 3s 6ms/step - loss: 0.2529 - accuracy: 0.9074\n"
          ],
          "name": "stdout"
        },
        {
          "output_type": "execute_result",
          "data": {
            "text/plain": [
              "<tensorflow.python.keras.callbacks.History at 0x7f840f3af748>"
            ]
          },
          "metadata": {
            "tags": []
          },
          "execution_count": 23
        }
      ]
    },
    {
      "cell_type": "markdown",
      "metadata": {
        "colab_type": "text",
        "id": "xaUL-QYT8tfy"
      },
      "source": [
        "If we now plot the loss on the test sets during the sequential training process on MNIST and FashionMNIST, we can clearly see what catastrophic forgetting means."
      ]
    },
    {
      "cell_type": "code",
      "metadata": {
        "colab_type": "code",
        "id": "vziuxbrI9NLF",
        "colab": {
          "base_uri": "https://localhost:8080/",
          "height": 297
        },
        "outputId": "e23b0328-e1b9-495c-f0fc-9ca32cfa2221"
      },
      "source": [
        "plt.subplot(2, 1, 1)\n",
        "plt.plot(my_cb.loss_0)\n",
        "plt.plot(my_cb.loss_1)\n",
        "plt.legend([\"MNIST\", \"FashionMNIST\"])\n",
        "plt.title(\"Loss\")\n",
        "plt.subplot(2, 1, 2)\n",
        "plt.plot(my_cb.acc_0)\n",
        "plt.plot(my_cb.acc_1)\n",
        "plt.legend([\"MNIST\", \"FashionMNIST\"])\n",
        "plt.title(\"Accuracy\")\n",
        "plt.xlabel(\"Epochs\")\n",
        "plt.tight_layout()\n",
        "plt.show()"
      ],
      "execution_count": 24,
      "outputs": [
        {
          "output_type": "display_data",
          "data": {
            "image/png": "[encoded data removed]",
            "text/plain": [
              "<Figure size 432x288 with 2 Axes>"
            ]
          },
          "metadata": {
            "tags": [],
            "needs_background": "light"
          }
        }
      ]
    },
    {
      "cell_type": "markdown",
      "metadata": {
        "colab_type": "text",
        "id": "iSfJAOLbBsv3"
      },
      "source": [
        "We can clearly see the transition from training on MNIST to training on FashionMNITS on epoch $20$. At this epoch the loss on MNIST rapidly increases again while the loss on FashionMNIST rapidly decreases. For the accuracy we see a similar but opposite behaivior. It first is high while training on MNIST and then rapidly decreases towards $0$ as we transition to training on FashionMNIST. Avioding this phenomenon is an active area of research on deep learning and there already exist some methods in order to mitigate catastrophic forgetting. But so far solving continual learning with neural networks remains an interesting and challenging problem. If it can be solved, neural networks could learn more human like without a constant need to refresh previously learned examples and enable interesting new applications where knowledge is accumulated over time.\n",
        "\n",
        "## Conclusion\n",
        "In this exercise we have learned how to use Keras in order to quickly develop neural networks and train them on different data sets. We also refreshed the mathematical background on classification and explored how dropout can act as an effective regularization in order to mitigate overfitting. While the Keras specification offers a high-level of abstraction in order to simplify build and training neural networks, it also enables us to customize some parts of the complete workflow. In order to evaluate a model on two different data sets in order to visualize the phenomenon of catastrophic forgetting, we implemented a custom callback that executed our required action at the end of every epoch. Besides that Keras offers many other ways to implement non standard layers/methods. If you want to learn more on Keras, you can visit the documentation on the Keras implementation in Tensorflow [here](https://www.tensorflow.org/versions/r2.2/api_docs/python/tf/keras) or directly use the Keras specification available [here](https://keras.io). Additionally we explored a very basic transfer learning technique, i.e. fine tuning of pretrained models. For this we utilized the MobileNetV2 architecture that was trained on the ImageNet data set and fine tuned it on the Caltech 101 data set. The resulting model was simple to implement and fast to train, while it still achieved competetive results."
      ]
    }
  ]
}